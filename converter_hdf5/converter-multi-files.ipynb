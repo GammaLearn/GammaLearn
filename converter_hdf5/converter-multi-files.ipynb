{
 "cells": [
  {
   "cell_type": "code",
   "execution_count": 1,
   "metadata": {
    "collapsed": true
   },
   "outputs": [],
   "source": [
    "import os\n",
    "from hipecta.data import PCalibRun\n",
    "from hipecta.data import PSimulation\n",
    "from hipecta.data import ctaTelescope2Matrix\n",
    "from hipecta import core\n",
    "import numpy as np\n",
    "import h5py"
   ]
  },
  {
   "cell_type": "code",
   "execution_count": 2,
   "metadata": {
    "collapsed": true
   },
   "outputs": [],
   "source": [
    "import matplotlib.pyplot as plt\n",
    "%matplotlib inline"
   ]
  },
  {
   "cell_type": "code",
   "execution_count": 3,
   "metadata": {
    "collapsed": true
   },
   "outputs": [],
   "source": [
    "%config InlineBackend.figure_format = 'retina'\n",
    "np.set_printoptions(precision=3)\n",
    "from IPython.core.interactiveshell import InteractiveShell\n",
    "# InteractiveShell.ast_node_interactivity = \"all\""
   ]
  },
  {
   "cell_type": "markdown",
   "metadata": {},
   "source": [
    "## First try of pcalibrun/psimu to hdf5 converter"
   ]
  },
  {
   "cell_type": "markdown",
   "metadata": {},
   "source": [
    "for a single tuple (pcalibrun,psimu)"
   ]
  },
  {
   "cell_type": "code",
   "execution_count": 6,
   "metadata": {
    "collapsed": true
   },
   "outputs": [],
   "source": [
    "pruncalibfilename = '/home/jacquemont/projets_CTA/Prod3b/Paranal/Gamma_point_source/gamma_20deg_0deg_run4514___cta-prod3_desert-2150m-Paranal-merged.pcalibRun'\n",
    "simufilename = '/home/jacquemont/projets_CTA/Prod3b/Paranal/Gamma_point_source/gamma_20deg_0deg_run4514___cta-prod3_desert-2150m-Paranal-merged.psimu'\n",
    "hdf5filename = '/home/jacquemont/projets_CTA/gamma.hdf5'"
   ]
  },
  {
   "cell_type": "code",
   "execution_count": 7,
   "metadata": {},
   "outputs": [],
   "source": [
    "pr = PCalibRun()\n",
    "pr.load(pruncalibfilename)"
   ]
  },
  {
   "cell_type": "code",
   "execution_count": 8,
   "metadata": {
    "collapsed": true
   },
   "outputs": [],
   "source": [
    "ps = PSimulation()\n",
    "ps.load(simufilename)"
   ]
  },
  {
   "cell_type": "code",
   "execution_count": 9,
   "metadata": {
    "collapsed": true
   },
   "outputs": [],
   "source": [
    "def loadCTAData(pruncalibfilename, simufilename):\n",
    "  pr = PCalibRun()\n",
    "  pr.load(pruncalibfilename)\n",
    "  ps = PSimulation()\n",
    "  ps.load(simufilename)\n",
    "  return pr, ps\n",
    "\n",
    "def addDataToDataset(dataset,data):\n",
    "  rowCount = dataset.shape[0]\n",
    "  dataset.resize(rowCount+data.shape[0], axis=0)\n",
    "  dataset[rowCount:]=data\n",
    "  return dataset"
   ]
  },
  {
   "cell_type": "code",
   "execution_count": 10,
   "metadata": {},
   "outputs": [],
   "source": [
    "telescopeTypeDict = {0:'DRAGON', 1:'NECTAR', 2:'FLASH', 3:'SCT', 4:'ASTRI', 5:'DC', 6:'GCT'}"
   ]
  },
  {
   "cell_type": "markdown",
   "metadata": {},
   "source": [
    "### Fetching data"
   ]
  },
  {
   "cell_type": "code",
   "execution_count": 11,
   "metadata": {
    "collapsed": true
   },
   "outputs": [],
   "source": [
    "# Shower simulation data\n",
    "altitude = np.array([sh.altitude for sh in ps.tabSimuShower])\n",
    "azimuth = np.array([sh.azimuth for sh in ps.tabSimuShower])\n",
    "cmax = np.array([sh.cmax for sh in ps.tabSimuShower])\n",
    "depthStart = np.array([sh.depthStart for sh in ps.tabSimuShower])\n",
    "emax = np.array([sh.emax for sh in ps.tabSimuShower])\n",
    "energy = np.array([sh.energy for sh in ps.tabSimuShower])\n",
    "heightFirstInteraction = np.array([sh.heightFirstInteraction for sh in ps.tabSimuShower])\n",
    "hmax = np.array([sh.hmax for sh in ps.tabSimuShower])\n",
    "showerId = np.array([sh.id for sh in ps.tabSimuShower])\n",
    "particleType = np.array([sh.particleType for sh in ps.tabSimuShower])\n",
    "xmax = np.array([sh.xmax for sh in ps.tabSimuShower])\n",
    "\n",
    "# Event simulation data\n",
    "eventIdSim = np.array([ev.id for ev in ps.tabSimuEvent])\n",
    "showerIdSim = np.array([ev.showerNum for ev in ps.tabSimuEvent])\n",
    "xCore = np.array([ev.xCore for ev in ps.tabSimuEvent])\n",
    "yCore = np.array([ev.yCore for ev in ps.tabSimuEvent])\n",
    "\n",
    "# Telescope infos\n",
    "telId = np.array([tel.telescopeId for tel in pr.tabTelescope])\n",
    "telPosition = np.array([posTel for posTel in pr.header.tabPosTel])\n",
    "telFocal = np.array([focalTel for focalTel in pr.header.tabFocalTel])"
   ]
  },
  {
   "cell_type": "code",
   "execution_count": 41,
   "metadata": {},
   "outputs": [],
   "source": [
    "# Telescope data\n",
    "telescopeType = set([tel.telescopeType for tel in pr.tabTelescope])\n",
    "\n",
    "for telType in telescopeType:\n",
    "  # Create telescope type group in hdf5\n",
    "  telDict[telType] = {}\n",
    "  # Telescope event data\n",
    "  telDict[telType]['images'] = np.array([event.tabPixel for tel in pr.tabTelescope if tel.telescopeType == telType for event in tel.tabTelEvent])\n",
    "  telDict[telType]['eventId'] = np.array([event.eventId for tel in pr.tabTelescope if tel.telescopeType == telType for event in tel.tabTelEvent])\n",
    "  telDict[telType]['telescopeId'] =  np.array([tel.telescopeId for tel in pr.tabTelescope if tel.telescopeType == telType for event in tel.tabTelEvent])\n",
    "  telDict[telType]['pixelsPosition'] = [tel.tabPos.tabPixelPosXY for tel in pr.tabTelescope if tel.telescopeType == telType][0]\n",
    "  # Add matrix form images\n",
    "  telDict[telType]['injTable'], telDict[telType]['nbRow'], telDict[telType]['nbCol'] = core.createAutoInjunctionTable(telDict[telType]['pixelsPosition'])\n",
    "  # Add shower id\n",
    "  telDict[telType]['showerId'] = np.array([showerIdSim[np.where(eventIdSim==ev)] for ev in telDict[telType]['eventId']])\n"
   ]
  },
  {
   "cell_type": "markdown",
   "metadata": {},
   "source": [
    "### Writing data to HDF5"
   ]
  },
  {
   "cell_type": "code",
   "execution_count": 60,
   "metadata": {
    "scrolled": true
   },
   "outputs": [],
   "source": [
    "# Prepare hdf5 object\n",
    "hdf5StuctureDict = {}\n",
    "\n",
    "if os.path.isfile(hdf5filename):\n",
    "  gammaHdf = h5py.File(hdf5filename,'r+')\n",
    "  # Load hdf5 file datasets\n",
    "  # Telescope data\n",
    "  for telType in telescopeType:\n",
    "    telGrp = {}\n",
    "    #telGrp[\"group\"] = gammaHdf[telescopeTypeDict[telType]]\n",
    "    group = telescopeTypeDict[telType]\n",
    "    telGrp[\"showerId\"] = gammaHdf[group + '/showerId']\n",
    "    telGrp[\"showerId\"] = addDataToDataset(telGrp[\"showerId\"], telDict[telType]['showerId'])\n",
    "    telGrp[\"images\"] = gammaHdf[group + '/images']\n",
    "    telGrp[\"images\"] = addDataToDataset(telGrp[\"images\"], telDict[telType]['images'])\n",
    "    #telGrp[\"pixelsPosition\"] = gammaHdf[group + '/pixelsPosition']\n",
    "    telGrp[\"eventId\"] = gammaHdf[group + '/eventId']\n",
    "    telGrp[\"eventId\"] = addDataToDataset(telGrp[\"eventId\"], telDict[telType]['eventId'])\n",
    "    telGrp[\"telescopeId\"] = gammaHdf[group + '/telescopeId']\n",
    "    telGrp[\"telescopeId\"] = addDataToDataset(telGrp[\"telescopeId\"], telDict[telType]['telescopeId'])\n",
    "    #telGrp[\"injTable\"] = gammaHdf[group + '/injTable']\n",
    "    #telGrp[\"nbRow\"] = gammaHdf[group + '/nbRow']\n",
    "    #telGrp[\"nbCol\"] = gammaHdf[group + '/nbCol']\n",
    "    hdf5StuctureDict[telType] = telGrp\n",
    "  # Shower simulation data\n",
    "  #showerSimuGrp = gammaHdf.create_group(\"showerSimu\")\n",
    "  showerDataAltitude = gammaHdf['/showerSimu/altitude']\n",
    "  showerDataAltitude = addDataToDataset(showerDataAltitude, altitude)\n",
    "  showerDataAzimuth = gammaHdf['/showerSimu/azimuth']\n",
    "  showerDataAzimuth = addDataToDataset(showerDataAzimuth, azimuth)\n",
    "  showerDataCmax = gammaHdf['/showerSimu/cmax']\n",
    "  showerDataCmax = addDataToDataset(showerDataCmax, cmax)\n",
    "  showerDataDepthStart = gammaHdf['/showerSimu/depthStart']\n",
    "  showerDataDepthStart = addDataToDataset(showerDataDepthStart, depthStart)  \n",
    "  showerDataEmax = gammaHdf['/showerSimu/emax']\n",
    "  showerDataEmax = addDataToDataset(showerDataEmax, emax)\n",
    "  showerDataEnergy = gammaHdf['/showerSimu/energy']\n",
    "  showerDataEnergy = addDataToDataset(showerDataEnergy, energy)  \n",
    "  showerDataHeight = gammaHdf['/showerSimu/heightFirstInteraction']\n",
    "  showerDataHeight = addDataToDataset(showerDataHeight, heightFirstInteraction)\n",
    "  showerDataHmax = gammaHdf['/showerSimu/hmax']\n",
    "  showerDataHmax = addDataToDataset(showerDataHmax, hmax)  \n",
    "  showerDataShowerId = gammaHdf['/showerSimu/showerId']\n",
    "  showerDataShowerId = addDataToDataset(showerDataShowerId,showerId)\n",
    "  showerDataParticleType = gammaHdf['/showerSimu/particleType']\n",
    "  showerDataParticleType = addDataToDataset(showerDataParticleType, particleType)  \n",
    "  showerDataXmax = gammaHdf['/showerSimu/xmax']\n",
    "  showerDataXmax = addDataToDataset(showerDataXmax, xmax)\n",
    "  # Event simulation data\n",
    "  #eventSimuGrp = gammaHdf.create_group(\"eventSimu\")\n",
    "  eventDataEventId = gammaHdf['/eventSimu/eventId']\n",
    "  eventDataEventId = addDataToDataset(eventDataEventId, eventIdSim)  \n",
    "  eventDataShowerId = gammaHdf['/eventSimu/showerId']\n",
    "  eventDataShowerId = addDataToDataset(eventDataShowerId, showerIdSim)\n",
    "  eventDataXCore = gammaHdf['/eventSimu/xCore']\n",
    "  eventDataXCore = addDataToDataset(eventDataXCore, xCore)  \n",
    "  eventDataYCore = gammaHdf['/eventSimu/yCore']\n",
    "  eventDataYCore = addDataToDataset(eventDataYCore, yCore)\n",
    "  # Telescope Infos\n",
    "  #telInfos = gammaHdf.create_group(\"telescopeInfos\")\n",
    "  #telescopeInfoId = gammaHdf['/telescopeInfos/telescopeId']\n",
    "  #telescopeInfoPosition = gammaHdf['/telescopeInfos/telescopePosition']\n",
    "  #telescopeInfoFocal = gammaHdf['/telescopeInfos/telescopeFocal']\n",
    "else:\n",
    "  gammaHdf = h5py.File(hdf5filename,'w')\n",
    "  # Create hdf5 structure with empty datasets\n",
    "  # Telescope data\n",
    "  for telType in telescopeType:\n",
    "    telGrp = {}\n",
    "    telGrp[\"group\"] = gammaHdf.create_group(telescopeTypeDict[telType])\n",
    "    telGrp[\"showerId\"] = telGrp[\"group\"].create_dataset(\"showerId\",data=telDict[telType]['showerId'], maxshape=(None,1),dtype=np.uint64)\n",
    "    maxshape = (None,) + telDict[telType]['images'].shape[1:]\n",
    "    telGrp[\"images\"] = telGrp[\"group\"].create_dataset(\"images\",data=telDict[telType]['images'], maxshape=maxshape,dtype=np.float32)\n",
    "    telGrp[\"pixelsPosition\"] = telGrp[\"group\"].create_dataset(\"pixelsPosition\",data=telDict[telType]['pixelsPosition'],dtype=np.float32)\n",
    "    telGrp[\"eventId\"] = telGrp[\"group\"].create_dataset(\"eventId\",data=telDict[telType]['eventId'],maxshape=(None,),dtype=np.uint64)\n",
    "    telGrp[\"telescopeId\"] = telGrp[\"group\"].create_dataset(\"telescopeId\",data=telDict[telType]['telescopeId'],maxshape=(None,),dtype=np.uint64)\n",
    "    telGrp[\"injTable\"] = telGrp[\"group\"].create_dataset(\"injTable\",data=telDict[telType]['injTable'],dtype=np.uint64)\n",
    "    telGrp[\"nbRow\"] = telGrp[\"group\"].create_dataset(\"nbRow\",data=telDict[telType]['nbRow'],dtype=np.int8)\n",
    "    telGrp[\"nbCol\"] = telGrp[\"group\"].create_dataset(\"nbCol\",data=telDict[telType]['nbCol'],dtype=np.int8)\n",
    "    hdf5StuctureDict[telType] = telGrp\n",
    "  # Shower simulation data\n",
    "  showerSimuGrp = gammaHdf.create_group(\"showerSimu\")\n",
    "  showerDataAltitude = showerSimuGrp.create_dataset('altitude',data=altitude,maxshape=(None,),dtype=np.float32)\n",
    "  showerDataAzimuth = showerSimuGrp.create_dataset('azimuth',data=azimuth,maxshape=(None,),dtype=np.float32)\n",
    "  showerDataCmax = showerSimuGrp.create_dataset('cmax',data=cmax,maxshape=(None,),dtype=np.float32)\n",
    "  showerDataDepthStart = showerSimuGrp.create_dataset('depthStart',data=depthStart,maxshape=(None,),dtype=np.float32)\n",
    "  showerDataEmax = showerSimuGrp.create_dataset('emax',data=emax,maxshape=(None,),dtype=np.float32)\n",
    "  showerDataEnergy = showerSimuGrp.create_dataset('energy',data=energy,maxshape=(None,),dtype=np.float32)\n",
    "  showerDataHeight = showerSimuGrp.create_dataset('heightFirstInteraction',data=heightFirstInteraction,maxshape=(None,),dtype=np.float32)\n",
    "  showerDataHmax = showerSimuGrp.create_dataset('hmax',data=hmax,maxshape=(None,),dtype=np.float32)\n",
    "  showerDataShowerId = showerSimuGrp.create_dataset('showerId',data=showerId,maxshape=(None,),dtype=np.uint64)\n",
    "  showerDataParticleType = showerSimuGrp.create_dataset('particleType',data=particleType,maxshape=(None,),dtype=np.int32)\n",
    "  showerDataXmax = showerSimuGrp.create_dataset('xmax',data=xmax,maxshape=(None,),dtype=np.float32)\n",
    "  # Event simulation data\n",
    "  eventSimuGrp = gammaHdf.create_group(\"eventSimu\")\n",
    "  eventDataEventId = eventSimuGrp.create_dataset('eventId',data=eventIdSim,maxshape=(None,),dtype=np.uint64)\n",
    "  eventDataShowerId = eventSimuGrp.create_dataset('showerId',data=showerIdSim,maxshape=(None,),dtype=np.uint64)\n",
    "  eventDataXCore = eventSimuGrp.create_dataset('xCore',data=xCore,maxshape=(None,),dtype=np.float32)\n",
    "  eventDataYCore = eventSimuGrp.create_dataset('yCore',data=yCore,maxshape=(None,),dtype=np.float32)\n",
    "  # Telescope Infos\n",
    "  telInfos = gammaHdf.create_group(\"telescopeInfos\")\n",
    "  telescopeInfoId = telInfos.create_dataset('telescopeId',data=telId,dtype=np.uint64)\n",
    "  telescopeInfoPosition = telInfos.create_dataset('telescopePosition',data=telPosition,dtype=np.float32)\n",
    "  telescopeInfoFocal = telInfos.create_dataset('telescopeFocal',data=telFocal,dtype=np.float32)"
   ]
  },
  {
   "cell_type": "code",
   "execution_count": 61,
   "metadata": {},
   "outputs": [],
   "source": [
    "gammaHdf.close()"
   ]
  },
  {
   "cell_type": "code",
   "execution_count": null,
   "metadata": {
    "collapsed": true
   },
   "outputs": [],
   "source": []
  }
 ],
 "metadata": {
  "kernelspec": {
   "display_name": "Python 3",
   "language": "python",
   "name": "python3"
  },
  "language_info": {
   "codemirror_mode": {
    "name": "ipython",
    "version": 3
   },
   "file_extension": ".py",
   "mimetype": "text/x-python",
   "name": "python",
   "nbconvert_exporter": "python",
   "pygments_lexer": "ipython3",
   "version": "3.6.2"
  }
 },
 "nbformat": 4,
 "nbformat_minor": 2
}
