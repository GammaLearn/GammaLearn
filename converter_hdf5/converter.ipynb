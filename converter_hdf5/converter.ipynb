{
 "cells": [
  {
   "cell_type": "code",
   "execution_count": 1,
   "metadata": {
    "collapsed": true
   },
   "outputs": [],
   "source": [
    "import os\n",
    "from hipecta.data import PCalibRun\n",
    "from hipecta.data import PSimulation\n",
    "from hipecta.data import ctaTelescope2Matrix\n",
    "from hipecta import core\n",
    "import numpy as np\n",
    "import h5py"
   ]
  },
  {
   "cell_type": "code",
   "execution_count": 2,
   "metadata": {
    "collapsed": true
   },
   "outputs": [],
   "source": [
    "import matplotlib.pyplot as plt\n",
    "%matplotlib inline"
   ]
  },
  {
   "cell_type": "code",
   "execution_count": 3,
   "metadata": {
    "collapsed": true
   },
   "outputs": [],
   "source": [
    "%config InlineBackend.figure_format = 'retina'\n",
    "np.set_printoptions(precision=3)\n",
    "from IPython.core.interactiveshell import InteractiveShell\n",
    "# InteractiveShell.ast_node_interactivity = \"all\""
   ]
  },
  {
   "cell_type": "markdown",
   "metadata": {},
   "source": [
    "## First try of pcalibrun/psimu to hdf5 converter"
   ]
  },
  {
   "cell_type": "markdown",
   "metadata": {},
   "source": [
    "for a single tuple (pcalibrun,psimu)"
   ]
  },
  {
   "cell_type": "code",
   "execution_count": 86,
   "metadata": {},
   "outputs": [],
   "source": [
    "pruncalibfilename = '/Users/mikael/projets_CTA/gamma_20deg_0deg_run110___cta-prod3_desert-2150m-Paranal-merged.pcalibRun'\n",
    "simufilename = '/Users/mikael/projets_CTA/gamma_20deg_0deg_run110___cta-prod3_desert-2150m-Paranal-merged.psimu'\n",
    "hdf5filename = '/Users/mikael/projets_CTA/gamma_20deg_0deg_run110___cta-prod3_desert-2150m-Paranal-merged.hdf5'"
   ]
  },
  {
   "cell_type": "code",
   "execution_count": 87,
   "metadata": {
    "collapsed": true
   },
   "outputs": [],
   "source": [
    "pr = PCalibRun()\n",
    "pr.load(pruncalibfilename)\n",
    "ps = PSimulation()\n",
    "ps.load(simufilename)"
   ]
  },
  {
   "cell_type": "code",
   "execution_count": 88,
   "metadata": {},
   "outputs": [],
   "source": [
    "gammaHdf = h5py.File(hdf5filename,'w')"
   ]
  },
  {
   "cell_type": "code",
   "execution_count": 89,
   "metadata": {
    "collapsed": true
   },
   "outputs": [],
   "source": [
    "telescopeTypeDict = {0:'DRAGON', 1:'NECTAR', 2:'FLASH', 3:'SCT', 4:'ASTRI', 5:'DC', 6:'GCT'}"
   ]
  },
  {
   "cell_type": "markdown",
   "metadata": {},
   "source": [
    "### Fetching data"
   ]
  },
  {
   "cell_type": "code",
   "execution_count": 90,
   "metadata": {},
   "outputs": [],
   "source": [
    "# Shower simulation data\n",
    "altitude = np.array([sh.altitude for sh in ps.tabSimuShower])\n",
    "azimuth = np.array([sh.azimuth for sh in ps.tabSimuShower])\n",
    "cmax = np.array([sh.cmax for sh in ps.tabSimuShower])\n",
    "depthStart = np.array([sh.depthStart for sh in ps.tabSimuShower])\n",
    "emax = np.array([sh.emax for sh in ps.tabSimuShower])\n",
    "energy = np.array([sh.energy for sh in ps.tabSimuShower])\n",
    "heightFirstInteraction = np.array([sh.heightFirstInteraction for sh in ps.tabSimuShower])\n",
    "hmax = np.array([sh.hmax for sh in ps.tabSimuShower])\n",
    "showerId = np.array([sh.id for sh in ps.tabSimuShower])\n",
    "particleType = np.array([sh.particleType for sh in ps.tabSimuShower])\n",
    "xmax = np.array([sh.xmax for sh in ps.tabSimuShower])\n",
    "\n",
    "# Event simulation data\n",
    "eventIdSim = np.array([ev.id for ev in ps.tabSimuEvent])\n",
    "showerIdSim = np.array([ev.showerNum for ev in ps.tabSimuEvent])\n",
    "xCore = np.array([ev.xCore for ev in ps.tabSimuEvent])\n",
    "yCore = np.array([ev.yCore for ev in ps.tabSimuEvent])\n",
    "\n",
    "# Telescope infos\n",
    "telId = np.array([tel.telescopeId for tel in pr.tabTelescope])\n",
    "telPosition = np.array([posTel for posTel in pr.header.tabPosTel])\n",
    "telFocal = np.array([focalTel for focalTel in pr.header.tabFocalTel])"
   ]
  },
  {
   "cell_type": "code",
   "execution_count": 91,
   "metadata": {},
   "outputs": [],
   "source": [
    "# Write to hdf5 as group showerSimu\n",
    "showerSimuGrp = gammaHdf.create_group(\"showerSimu\")\n",
    "ds1 = showerSimuGrp.create_dataset('altitude',data=altitude,dtype=np.float32)\n",
    "ds2 = showerSimuGrp.create_dataset('azimuth',data=azimuth,dtype=np.float32)\n",
    "ds3 = showerSimuGrp.create_dataset('cmax',data=cmax,dtype=np.float32)\n",
    "ds4 = showerSimuGrp.create_dataset('depthStart',data=depthStart,dtype=np.float32)\n",
    "ds5 = showerSimuGrp.create_dataset('emax',data=emax,dtype=np.float32)\n",
    "ds6 = showerSimuGrp.create_dataset('energy',data=energy,dtype=np.float32)\n",
    "ds7 = showerSimuGrp.create_dataset('heightFirstInteraction',data=heightFirstInteraction,dtype=np.float32)\n",
    "ds8 = showerSimuGrp.create_dataset('hmax',data=hmax,dtype=np.float32)\n",
    "ds9 = showerSimuGrp.create_dataset('showerId',data=showerId,dtype=np.uint64)\n",
    "ds10 = showerSimuGrp.create_dataset('particleType',data=particleType,dtype=np.int32)\n",
    "ds11 = showerSimuGrp.create_dataset('xmax',data=xmax,dtype=np.float32)\n",
    "\n",
    "# Write to hdf5 as group eventSimu\n",
    "eventSimuGrp = gammaHdf.create_group(\"eventSimu\")\n",
    "ds12 = eventSimuGrp.create_dataset('eventId', data=eventIdSim,dtype=np.uint64)\n",
    "ds13 = eventSimuGrp.create_dataset('showerId', data=showerIdSim,dtype=np.uint64)\n",
    "ds14 = eventSimuGrp.create_dataset('xCore', data=xCore,dtype=np.float32)\n",
    "ds15 = eventSimuGrp.create_dataset('yCore', data=yCore,dtype=np.float32)\n",
    "\n",
    "# Write to hdf5 as group telescopeInfos\n",
    "telInfos = gammaHdf.create_group(\"telescopeInfos\")\n",
    "ds16 = telInfos.create_dataset('telescopeId', data=telId,dtype=np.uint64)\n",
    "ds17 = telInfos.create_dataset('telescopePosition', data=telPosition,dtype=np.float32)\n",
    "ds18 = telInfos.create_dataset('telescopeFocal', data=telFocal,dtype=np.float32)"
   ]
  },
  {
   "cell_type": "code",
   "execution_count": 92,
   "metadata": {},
   "outputs": [
    {
     "name": "stdout",
     "output_type": "stream",
     "text": [
      "{0, 1, 2, 4, 5, 6}\n"
     ]
    }
   ],
   "source": [
    "# Telescope data\n",
    "telescopeType = set([tel.telescopeType for tel in pr.tabTelescope])\n",
    "print(telescopeType)\n",
    "telDict = {}\n",
    "datasets = []\n",
    "for telType in telescopeType:\n",
    "  # Create telescope type group in hdf5\n",
    "  telDict[telType] = gammaHdf.create_group(telescopeTypeDict[telType])\n",
    "  # Telescope event data\n",
    "  images = np.array([event.tabPixel for tel in pr.tabTelescope if tel.telescopeType == telType for event in tel.tabTelEvent])\n",
    "  eventId = np.array([event.eventId for tel in pr.tabTelescope if tel.telescopeType == telType for event in tel.tabTelEvent])\n",
    "  telescopeId =  np.array([tel.telescopeId for tel in pr.tabTelescope if tel.telescopeType == telType for event in tel.tabTelEvent])\n",
    "  pixelsPosition = [tel.tabPos.tabPixelPosXY for tel in pr.tabTelescope if tel.telescopeType == telType][0]\n",
    "  # Add matrix form images\n",
    "  injTable, nbRow, nbCol = core.createAutoInjunctionTable(pixelsPosition)\n",
    "  # Add shower id\n",
    "  showerIdData = np.array([showerIdSim[np.where(eventIdSim==ev)] for ev in eventId])\n",
    "  \n",
    "  # Add datasets to group\n",
    "  datasets.append(telDict[telType].create_dataset('images', data=images,dtype=np.float32))\n",
    "  datasets.append(telDict[telType].create_dataset('eventId', data=eventId,dtype=np.uint64))\n",
    "  datasets.append(telDict[telType].create_dataset('showerId', data=showerIdData,dtype=np.uint64))\n",
    "  datasets.append(telDict[telType].create_dataset('telescopeId', data=telescopeId,dtype=np.uint64))\n",
    "  datasets.append(telDict[telType].create_dataset('pixelsPosition', data=pixelsPosition,dtype=np.float32))\n",
    "  datasets.append(telDict[telType].create_dataset('injTable', data=injTable,dtype=np.uint64))\n",
    "  datasets.append(telDict[telType].create_dataset('nbRow', data=nbRow,dtype=np.int8))\n",
    "  datasets.append(telDict[telType].create_dataset('nbCol', data=nbCol,dtype=np.int8))\n"
   ]
  },
  {
   "cell_type": "code",
   "execution_count": 93,
   "metadata": {},
   "outputs": [],
   "source": [
    "gammaHdf.close()"
   ]
  },
  {
   "cell_type": "code",
   "execution_count": null,
   "metadata": {
    "collapsed": true
   },
   "outputs": [],
   "source": []
  }
 ],
 "metadata": {
  "kernelspec": {
   "display_name": "Python 3",
   "language": "python",
   "name": "python3"
  },
  "language_info": {
   "codemirror_mode": {
    "name": "ipython",
    "version": 3
   },
   "file_extension": ".py",
   "mimetype": "text/x-python",
   "name": "python",
   "nbconvert_exporter": "python",
   "pygments_lexer": "ipython3",
   "version": "3.6.1"
  }
 },
 "nbformat": 4,
 "nbformat_minor": 2
}
