{
 "cells": [
  {
   "cell_type": "code",
   "execution_count": 31,
   "metadata": {},
   "outputs": [],
   "source": [
    "from hipecta.data import ctaTelescope2Matrix\n",
    "from hipecta import core\n",
    "import numpy as np\n",
    "import h5py\n",
    "import torch\n",
    "from torch.utils.data import DataLoader, Dataset\n",
    "import matplotlib.pyplot as plt\n",
    "import hipecta.plots as plots\n",
    "from torchvision import transforms, utils"
   ]
  },
  {
   "cell_type": "code",
   "execution_count": 3,
   "metadata": {
    "collapsed": true
   },
   "outputs": [],
   "source": [
    "def squeeze_data(l):\n",
    "    \"\"\"\n",
    "    Squeeze an array or a list of length 1\n",
    "    Parameters\n",
    "    ----------\n",
    "    l: np.ndarray or list\n",
    "\n",
    "    Returns\n",
    "    -------\n",
    "    variable\n",
    "    \"\"\"\n",
    "    while isinstance(l,(np.ndarray,list)):\n",
    "        if len(l) == 1:\n",
    "            l = l[0]\n",
    "        else:\n",
    "            break\n",
    "\n",
    "    return l"
   ]
  },
  {
   "cell_type": "code",
   "execution_count": 4,
   "metadata": {},
   "outputs": [],
   "source": [
    "class LSTCamDataset(Dataset):\n",
    "    \"\"\"LST camera simulation dataset.\"\"\"\n",
    "    \n",
    "    def __init__(self, hdf5_file, transform=None):\n",
    "        \"\"\"\n",
    "        Parameters\n",
    "        ----------\n",
    "            hdf5_file (string): path to hdf5 file containing the data\n",
    "            transform (callable, optional): Optional transform to be applied on a sample\n",
    "            energy_band (tuple, optional): Optional filter applied on energy of the data source\n",
    "        \"\"\"\n",
    "        self.hdf5_file = hdf5_file\n",
    "        self.transform = transform\n",
    "        \n",
    "    def __len__(self):\n",
    "        return len(self.hdf5_file['/Cameras/DRAGON/showerId'])\n",
    "                \n",
    "    def __getitem__(self, idx):\n",
    "        image = self.hdf5_file['/Cameras/DRAGON/images'][idx]\n",
    "        shower_id = self.hdf5_file['/Cameras/DRAGON/showerId'][idx]\n",
    "        event_id = self.hdf5_file['/Cameras/DRAGON/eventId'][idx]\n",
    "        idx_showerSimu = squeeze_data(list(np.where(np.array(self.hdf5_file['/showerSimu/showerId']) == shower_id)))\n",
    "        energy = self.hdf5_file['/showerSimu/energy'][idx_showerSimu]\n",
    "        altitude = self.hdf5_file['/showerSimu/altitude'][idx_showerSimu]\n",
    "        azimuth = self.hdf5_file['/showerSimu/azimuth'][idx_showerSimu]\n",
    "        xCore = self.hdf5_file['/eventSimu/xCore'][(np.array(self.hdf5_file['/eventSimu/eventId']) == event_id) & \n",
    "                                      (np.array(self.hdf5_file['/eventSimu/showerId']) == shower_id)]\n",
    "        yCore = self.hdf5_file['/eventSimu/yCore'][(np.array(self.hdf5_file['/eventSimu/eventId']) == event_id) & \n",
    "                                      (np.array(self.hdf5_file['/eventSimu/showerId']) == shower_id)]\n",
    "        labels = np.array([energy, altitude, azimuth, xCore, yCore])\n",
    "        sample = {'image': image, 'labels': labels}\n",
    "        \n",
    "        if self.transform:\n",
    "            sample = self.transform(sample)\n",
    "            \n",
    "        return sample"
   ]
  },
  {
   "cell_type": "code",
   "execution_count": 25,
   "metadata": {
    "collapsed": true
   },
   "outputs": [],
   "source": [
    "class TelescopeToSquareMatrix(object):\n",
    "    \"\"\"Convert telescope image of vector shape to square matrix.\n",
    "    \n",
    "    Args:\n",
    "        injTable (array of float32): injunction table\n",
    "        nbRow (int): number of rows of the output matrix\n",
    "        nbCol (int): number of cols of the output matrix\n",
    "    \n",
    "    \"\"\"\n",
    "    \n",
    "    \n",
    "    def __init__(self, injTable, nbRow, nbCol):\n",
    "        assert isinstance(injTable, np.ndarray)\n",
    "        assert isinstance(nbRow, np.int64)\n",
    "        assert isinstance(nbCol, np.int64)\n",
    "        self.injTable = injTable\n",
    "        self.nbRow = nbRow\n",
    "        self.nbCol = nbCol\n",
    "        \n",
    "    def __call__(self, sample):\n",
    "        image, labels = sample['image'], sample['labels']\n",
    "        \n",
    "        mat = np.zeros((self.nbRow, self.nbCol))\n",
    "        mat = ctaTelescope2Matrix.telescope2matrix(mat, image, self.injTable)\n",
    "        \n",
    "        return {'image': mat, 'labels': labels}"
   ]
  },
  {
   "cell_type": "code",
   "execution_count": 6,
   "metadata": {
    "collapsed": true
   },
   "outputs": [],
   "source": [
    "class ToTensor(object):\n",
    "    \"\"\"Convert ndarrays in sample to Tensors.\"\"\"\n",
    "\n",
    "    def __call__(self, sample):\n",
    "        image, labels = sample['image'], sample['labels']\n",
    "\n",
    "        return {'image': torch.from_numpy(image),\n",
    "                'labels': torch.from_numpy(labels)}"
   ]
  },
  {
   "cell_type": "code",
   "execution_count": 33,
   "metadata": {
    "scrolled": true
   },
   "outputs": [
    {
     "name": "stdout",
     "output_type": "stream",
     "text": [
      "<class 'numpy.ndarray'>\n",
      "<class 'numpy.int64'>\n"
     ]
    }
   ],
   "source": [
    "test_file = '/home/jacquemont/projets_CTA/gamma0.hdf5'\n",
    "f = h5py.File(test_file, 'r')\n",
    "injTable = np.array(f['/Cameras/DRAGON/injTable'])\n",
    "print(type(injTable))\n",
    "nbRow = f['/Cameras/DRAGON'].attrs['nbRow']\n",
    "print(type(nbRow))\n",
    "nbCol = f['/Cameras/DRAGON'].attrs['nbCol']\n",
    "test_dataset = LSTCamDataset(hdf5_file=f,\n",
    "                             transform=transforms.Compose([\n",
    "                                 TelescopeToSquareMatrix(injTable, nbRow, nbCol),\n",
    "                                 ToTensor()\n",
    "                             ]))"
   ]
  },
  {
   "cell_type": "code",
   "execution_count": 8,
   "metadata": {},
   "outputs": [
    {
     "data": {
      "text/plain": [
       "10137"
      ]
     },
     "execution_count": 8,
     "metadata": {},
     "output_type": "execute_result"
    }
   ],
   "source": [
    "len(test_dataset)"
   ]
  },
  {
   "cell_type": "code",
   "execution_count": 35,
   "metadata": {},
   "outputs": [
    {
     "name": "stdout",
     "output_type": "stream",
     "text": [
      "588503\n",
      "5885\n"
     ]
    },
    {
     "data": {
      "image/png": "[encoded data removed]",
      "text/plain": [
       "<matplotlib.figure.Figure at 0x7f731c887320>"
      ]
     },
     "metadata": {},
     "output_type": "display_data"
    }
   ],
   "source": [
    "sample = test_dataset[300]\n",
    "plots.plotmatrix(sample['image'].numpy())"
   ]
  },
  {
   "cell_type": "code",
   "execution_count": 38,
   "metadata": {
    "collapsed": true
   },
   "outputs": [],
   "source": [
    "f.close()"
   ]
  }
 ],
 "metadata": {
  "kernelspec": {
   "display_name": "Python 3",
   "language": "python",
   "name": "python3"
  },
  "language_info": {
   "codemirror_mode": {
    "name": "ipython",
    "version": 3
   },
   "file_extension": ".py",
   "mimetype": "text/x-python",
   "name": "python",
   "nbconvert_exporter": "python",
   "pygments_lexer": "ipython3",
   "version": "3.6.2"
  }
 },
 "nbformat": 4,
 "nbformat_minor": 2
}
