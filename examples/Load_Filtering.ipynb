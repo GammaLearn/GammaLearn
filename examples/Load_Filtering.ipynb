{
 "cells": [
  {
   "cell_type": "markdown",
   "metadata": {},
   "source": [
    "# Loading and filtering "
   ]
  },
  {
   "cell_type": "code",
   "execution_count": 38,
   "metadata": {
    "collapsed": true
   },
   "outputs": [],
   "source": [
    "import h5py\n",
    "import numpy as np"
   ]
  },
  {
   "cell_type": "code",
   "execution_count": 109,
   "metadata": {},
   "outputs": [
    {
     "name": "stdout",
     "output_type": "stream",
     "text": [
      "total 2289784\r\n",
      "drwxr-xr-x   4 thomasvuillaume  staff   128B Sep 14 10:46 \u001b[34mBiblio\u001b[m\u001b[m/\r\n",
      "drwxr-xr-x  12 thomasvuillaume  staff   384B Dec  1 17:10 \u001b[34mGammaLearn\u001b[m\u001b[m/\r\n",
      "-rw-r--r--   1 thomasvuillaume  staff   1.1G Dec  1 17:09 LaPalma_gamma_diffuse_20deg_0deg_prod3b_training_0260.hdf5\r\n",
      "-rw-r--r--@  1 thomasvuillaume  staff    11K Jul 22 09:13 OBELICS - support.xlsx\r\n",
      "drwxr-xr-x  10 thomasvuillaume  staff   320B Sep 27 14:49 \u001b[34mProject_papers\u001b[m\u001b[m/\r\n",
      "drwxr-xr-x   7 thomasvuillaume  staff   224B Sep 12 11:00 \u001b[34mgammalearn-articles\u001b[m\u001b[m/\r\n",
      "drwxr-xr-x   8 thomasvuillaume  staff   256B Sep 20 15:09 \u001b[34mgammalearn-meetings\u001b[m\u001b[m/\r\n",
      "drwxr-xr-x   6 thomasvuillaume  staff   192B Nov 15 14:42 \u001b[34micon\u001b[m\u001b[m/\r\n"
     ]
    }
   ],
   "source": [
    "%ls -lh ../../"
   ]
  },
  {
   "cell_type": "code",
   "execution_count": 111,
   "metadata": {
    "collapsed": true
   },
   "outputs": [],
   "source": [
    "testfile = '../../LaPalma_gamma_diffuse_20deg_0deg_prod3b_training_0260.hdf5'"
   ]
  },
  {
   "cell_type": "code",
   "execution_count": 112,
   "metadata": {},
   "outputs": [
    {
     "name": "stdout",
     "output_type": "stream",
     "text": [
      "ls: testfile: No such file or directory\r\n"
     ]
    }
   ],
   "source": [
    "ls -lh testfile"
   ]
  },
  {
   "cell_type": "code",
   "execution_count": 3,
   "metadata": {
    "collapsed": true
   },
   "outputs": [],
   "source": [
    "f = h5py.File(testfile, 'r')"
   ]
  },
  {
   "cell_type": "code",
   "execution_count": 20,
   "metadata": {},
   "outputs": [
    {
     "name": "stdout",
     "output_type": "stream",
     "text": [
      "Cameras\n",
      "\t FLASH\n",
      "\t LSTCAM\n",
      "\t NECTAR\n",
      "\t SCT\n",
      "eventSimu\n",
      "\t eventId\n",
      "\t runId\n",
      "\t showerId\n",
      "\t xCore\n",
      "\t yCore\n",
      "pcalibrun_files\n",
      "psimu_files\n",
      "showerSimu\n",
      "\t altitude\n",
      "\t azimuth\n",
      "\t cmax\n",
      "\t depthStart\n",
      "\t emax\n",
      "\t energy\n",
      "\t heightFirstInteraction\n",
      "\t hmax\n",
      "\t runId\n",
      "\t showerId\n",
      "\t xmax\n",
      "telescopeInfos\n",
      "\t telescopeFocal\n",
      "\t telescopeId\n",
      "\t telescopePosition\n"
     ]
    }
   ],
   "source": [
    "for n in f:\n",
    "    print(n)\n",
    "    for n2 in f[n]:\n",
    "        print(\"\\t\", n2)"
   ]
  },
  {
   "cell_type": "code",
   "execution_count": 21,
   "metadata": {},
   "outputs": [
    {
     "name": "stdout",
     "output_type": "stream",
     "text": [
      "eventId\n",
      "images\n",
      "injTable\n",
      "pixelsPosition\n",
      "runId\n",
      "telescopeAltitude\n",
      "telescopeAzimuth\n",
      "telescopeId\n"
     ]
    }
   ],
   "source": [
    "for n in f['Cameras/LSTCAM']:\n",
    "    print(n)"
   ]
  },
  {
   "cell_type": "code",
   "execution_count": 35,
   "metadata": {},
   "outputs": [
    {
     "name": "stdout",
     "output_type": "stream",
     "text": [
      "2843 2843 2843\n"
     ]
    }
   ],
   "source": [
    "energy = f['showerSimu/energy']\n",
    "runId  = f['showerSimu/runId']\n",
    "showerId = f['showerSimu/showerId']\n",
    "print(len(energy), len(runId), len(showerId))"
   ]
  },
  {
   "cell_type": "code",
   "execution_count": 84,
   "metadata": {},
   "outputs": [],
   "source": [
    "EnergyMask = (f['showerSimu/energy'].value > 0.95) & (f['showerSimu/energy'].value < 1)"
   ]
  },
  {
   "cell_type": "code",
   "execution_count": 107,
   "metadata": {},
   "outputs": [
    {
     "data": {
      "text/plain": [
       "6821"
      ]
     },
     "execution_count": 107,
     "metadata": {},
     "output_type": "execute_result"
    }
   ],
   "source": [
    "len(f['Cameras/LSTCAM/images'])"
   ]
  },
  {
   "cell_type": "code",
   "execution_count": 97,
   "metadata": {
    "collapsed": true
   },
   "outputs": [],
   "source": [
    "def filter_energy(file, emin=-np.inf, emax=np.inf):\n",
    "    EnergyMask = (file['showerSimu/energy'].value > emin) & (file['showerSimu/energy'].value < emax)\n",
    "    EventMask = np.in1d(file['eventSimu/showerId'].value, showerId[EnergyMask])\n",
    "    eventId = file['eventSimu/eventId'][EventMask]\n",
    "    ImageMask = np.in1d(file['Cameras/LSTCAM/eventId'], eventId)\n",
    "    \n",
    "    return file['Cameras/LSTCAM/images'].value[ImageMask]"
   ]
  },
  {
   "cell_type": "code",
   "execution_count": 105,
   "metadata": {},
   "outputs": [
    {
     "name": "stdout",
     "output_type": "stream",
     "text": [
      "50.9 ms ± 1.05 ms per loop (mean ± std. dev. of 7 runs, 10 loops each)\n"
     ]
    }
   ],
   "source": [
    "%timeit Images = filter_energy(f, emin=0.9, emax=1)"
   ]
  },
  {
   "cell_type": "code",
   "execution_count": 106,
   "metadata": {},
   "outputs": [
    {
     "data": {
      "text/plain": [
       "3580"
      ]
     },
     "execution_count": 106,
     "metadata": {},
     "output_type": "execute_result"
    }
   ],
   "source": [
    "len(Images)"
   ]
  },
  {
   "cell_type": "code",
   "execution_count": null,
   "metadata": {},
   "outputs": [],
   "source": []
  },
  {
   "cell_type": "code",
   "execution_count": null,
   "metadata": {
    "collapsed": true
   },
   "outputs": [],
   "source": []
  }
 ],
 "metadata": {
  "kernelspec": {
   "display_name": "Python 3",
   "language": "python",
   "name": "python3"
  },
  "language_info": {
   "codemirror_mode": {
    "name": "ipython",
    "version": 3
   },
   "file_extension": ".py",
   "mimetype": "text/x-python",
   "name": "python",
   "nbconvert_exporter": "python",
   "pygments_lexer": "ipython3",
   "version": "3.5.2"
  }
 },
 "nbformat": 4,
 "nbformat_minor": 2
}
