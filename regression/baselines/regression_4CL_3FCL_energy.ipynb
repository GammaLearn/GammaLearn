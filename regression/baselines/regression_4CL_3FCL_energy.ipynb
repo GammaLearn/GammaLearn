{
 "cells": [
  {
   "cell_type": "code",
   "execution_count": 1,
   "metadata": {
    "collapsed": true
   },
   "outputs": [],
   "source": [
    "from hipecta.data import ctaTelescope2Matrix\n",
    "from hipecta import core\n",
    "import numpy as np\n",
    "import h5py\n",
    "import torch\n",
    "import torch.nn as nn\n",
    "from torch.autograd import Variable\n",
    "from torch.utils.data import DataLoader, Dataset, ConcatDataset, sampler\n",
    "from torch.optim import lr_scheduler\n",
    "import matplotlib.pyplot as plt\n",
    "import hipecta.plots as plots\n",
    "from torchvision import transforms, utils\n",
    "import math\n",
    "import time\n",
    "import os\n",
    "import sys\n",
    "\n",
    "converter_path = os.path.abspath(os.path.join('/home/jacquemont/GammaLearn/converter_hdf5'))\n",
    "if converter_path not in sys.path:\n",
    "    sys.path.append(converter_path)\n",
    "    \n",
    "from converter_hdf5 import *\n",
    "from datasets import *"
   ]
  },
  {
   "cell_type": "code",
   "execution_count": 17,
   "metadata": {
    "collapsed": true
   },
   "outputs": [],
   "source": [
    "class CNNModelLSTEnergy2(nn.Module):\n",
    "    def __init__(self):\n",
    "        super(CNNModelLSTEnergy2, self).__init__()\n",
    "        # in 55x55\n",
    "        # conv1\n",
    "        self.conv1 = nn.Conv2d(in_channels=1, out_channels=16, kernel_size=3, stride=1, padding=1)\n",
    "        # non-linearity\n",
    "        self.relu1 = nn.ReLU()\n",
    "        # maxpooling 1, by default floor\n",
    "        self.maxpool1 = nn.MaxPool2d(kernel_size=2) # nn.AvgPool2d\n",
    "        # batch norm\n",
    "        self.batchnorm1 = nn.BatchNorm2d(16)\n",
    "        # size = 27x27*16\n",
    "        # conv2\n",
    "        self.conv2 = nn.Conv2d(in_channels=16, out_channels=32, kernel_size=3, stride=1, padding=1)\n",
    "        # non-linearity\n",
    "        self.relu2 = nn.ReLU()\n",
    "        # maxpooling 2\n",
    "        self.maxpool2 = nn.MaxPool2d(kernel_size=2)\n",
    "        # batch norm\n",
    "        self.batchnorm2 = nn.BatchNorm2d(32)\n",
    "        #size = 13x13*32\n",
    "        # conv3\n",
    "        self.conv3 = nn.Conv2d(in_channels=32, out_channels=64, kernel_size=3, stride=1, padding=1)\n",
    "        # non-linearity\n",
    "        self.relu3 = nn.ReLU()\n",
    "        # maxpooling 3\n",
    "        self.maxpool3 = nn.MaxPool2d(kernel_size=2) # nn.AvgPool2d\n",
    "        # batch norm\n",
    "        self.batchnorm3 = nn.BatchNorm2d(64)\n",
    "        # size = 6x6*64\n",
    "        # conv4\n",
    "        self.conv4 = nn.Conv2d(in_channels=64, out_channels=128, kernel_size=3, stride=1, padding=1)\n",
    "        # non-linearity\n",
    "        self.relu4 = nn.ReLU()    \n",
    "        # size = 3x3*128\n",
    "        # readout, regression of energy\n",
    "        self.fc1 = nn.Linear(128*6*6, 256)\n",
    "        \n",
    "        self.fc2 = nn.Linear(256, 64)\n",
    "        \n",
    "        self.fc3 = nn.Linear(64, 1)\n",
    "        \n",
    "        for m in self.modules():\n",
    "            if isinstance(m, nn.Conv2d):\n",
    "                nn.init.kaiming_uniform(m.weight.data, mode='fan_out')\n",
    "                \n",
    "    def forward(self, x):\n",
    "        out = self.conv1(x)\n",
    "        out = self.relu1(out)\n",
    "        out = self.maxpool1(out)\n",
    "        out = self.batchnorm1(out)\n",
    "        out = self.conv2(out)\n",
    "        out = self.relu2(out)\n",
    "        out = self.maxpool2(out)\n",
    "        out = self.batchnorm2(out)\n",
    "        out = self.conv3(out)\n",
    "        out = self.relu3(out)\n",
    "        out = self.maxpool3(out)\n",
    "        out = self.batchnorm3(out)\n",
    "        out = self.conv4(out)\n",
    "        out = self.relu4(out)\n",
    "\n",
    "        # Reshape out from batch_size,128,6,6 to batch_size,128*6*6\n",
    "        out = out.view(out.size(0),-1)\n",
    "        out = self.fc1(out)\n",
    "        out = self.fc2(out)\n",
    "        out = self.fc3(out)\n",
    "        return out"
   ]
  },
  {
   "cell_type": "code",
   "execution_count": 3,
   "metadata": {
    "collapsed": true,
    "scrolled": true
   },
   "outputs": [],
   "source": [
    "test_file = '/home/jacquemont/projets_CTA/gamma0.hdf5'\n",
    "f = h5py.File(test_file, 'r')\n",
    "injTable = np.array(f['/Cameras/LSTCAM/injTable'])\n",
    "nbRow = f['/Cameras/LSTCAM'].attrs['nbRow']\n",
    "nbCol = f['/Cameras/LSTCAM'].attrs['nbCol']\n",
    "test_dataset = LSTCamDataset(hdf5_file=f,\n",
    "                             transform=transforms.Compose([\n",
    "                                 TelescopeToSquareMatrix(injTable, nbRow, nbCol),\n",
    "                                 ToTensor()\n",
    "                             ]))\n",
    "\n",
    "test_dataset_2 = LSTCamDataset(hdf5_file=f)\n",
    "\n",
    "test_dataset_3 = ConcatDataset([test_dataset, test_dataset_2])\n"
   ]
  },
  {
   "cell_type": "code",
   "execution_count": 4,
   "metadata": {
    "scrolled": true
   },
   "outputs": [
    {
     "data": {
      "image/png": "[encoded data removed]",
      "text/plain": [
       "<matplotlib.figure.Figure at 0x7fd28c321630>"
      ]
     },
     "metadata": {},
     "output_type": "display_data"
    }
   ],
   "source": [
    "sample = test_dataset[4833]\n",
    "plots.plotmatrix(sample['image'][0].numpy())"
   ]
  },
  {
   "cell_type": "code",
   "execution_count": 5,
   "metadata": {},
   "outputs": [
    {
     "name": "stdout",
     "output_type": "stream",
     "text": [
      "21\n"
     ]
    }
   ],
   "source": [
    "# Creation of subset train and test\n",
    "random_indices = torch.randperm(len(test_dataset))\n",
    "train_max_index = int(len(test_dataset)*0.9)\n",
    "train_set_sampler = sampler.SubsetRandomSampler(random_indices[0:train_max_index])\n",
    "test_set_sampler = sampler.SubsetRandomSampler(random_indices[train_max_index + 1:])\n",
    "\n",
    "batch_size = 16\n",
    "n_iters = 12000\n",
    "num_epochs = int(n_iters/(len(test_dataset)*0.9/batch_size))\n",
    "print(num_epochs)\n",
    "\n",
    "# iterable subset creation\n",
    "train_loader = torch.utils.data.DataLoader(dataset=test_dataset,\n",
    "                                           batch_size=batch_size,\n",
    "                                           sampler=train_set_sampler)\n",
    "\n",
    "test_loader = torch.utils.data.DataLoader(dataset=test_dataset,\n",
    "                                          batch_size=batch_size,\n",
    "                                          sampler=test_set_sampler)"
   ]
  },
  {
   "cell_type": "code",
   "execution_count": 6,
   "metadata": {},
   "outputs": [
    {
     "name": "stdout",
     "output_type": "stream",
     "text": [
      "CUDA available\n"
     ]
    }
   ],
   "source": [
    "if torch.cuda.is_available():\n",
    "    print(\"CUDA available\")"
   ]
  },
  {
   "cell_type": "code",
   "execution_count": 34,
   "metadata": {
    "scrolled": true
   },
   "outputs": [
    {
     "name": "stdout",
     "output_type": "stream",
     "text": [
      "model on GPU\n",
      "Epoch 0 Iteration 100 Training Loss 0.34975428976621714 \n",
      "Epoch 0 Iteration 200 Training Loss 0.008112517395918985 \n",
      "Epoch 0 Iteration 300 Training Loss 0.09716087687354881 \n",
      "Epoch 0 Iteration 400 Training Loss 0.023543777229493495 \n",
      "Epoch 0 Iteration 500 Training Loss 0.05897600325862935 \n",
      "Epoch 0 Test Loss 10.318455859906466 \n",
      "Epoch 1 Iteration 600 Training Loss 5.53571678583312 \n",
      "Epoch 1 Iteration 700 Training Loss 0.9294861490454123 \n",
      "Epoch 1 Iteration 800 Training Loss 0.005022953301319523 \n",
      "Epoch 1 Iteration 900 Training Loss 0.4736458874476785 \n",
      "Epoch 1 Iteration 1000 Training Loss 0.0706281975699979 \n",
      "Epoch 1 Iteration 1100 Training Loss 0.10765111286103386 \n",
      "Epoch 1 Test Loss 10.285842756326767 \n",
      "Epoch 2 Iteration 1200 Training Loss 0.015126315924925401 \n",
      "Epoch 2 Iteration 1300 Training Loss 0.8310295258726879 \n",
      "Epoch 2 Iteration 1400 Training Loss 4.081556280055412 \n",
      "Epoch 2 Iteration 1500 Training Loss 0.3266603291199387 \n",
      "Epoch 2 Iteration 1600 Training Loss 0.08948862348369135 \n",
      "Epoch 2 Iteration 1700 Training Loss 2.1285007051941913 \n",
      "Epoch 2 Test Loss 10.251273186701924 \n",
      "Epoch 3 Iteration 1800 Training Loss 0.012160454506466169 \n",
      "Epoch 3 Iteration 1900 Training Loss 28.804584553493807 \n",
      "Epoch 3 Iteration 2000 Training Loss 0.30856229675785085 \n",
      "Epoch 3 Iteration 2100 Training Loss 0.6181016709817122 \n",
      "Epoch 3 Iteration 2200 Training Loss 3.623944641833709 \n",
      "Epoch 3 Test Loss 10.235817135751777 \n",
      "Epoch 4 Iteration 2300 Training Loss 0.4067589649860599 \n",
      "Epoch 4 Iteration 2400 Training Loss 29.053066668552134 \n",
      "Epoch 4 Iteration 2500 Training Loss 72.42238952567543 \n",
      "Epoch 4 Iteration 2600 Training Loss 0.08915576354481626 \n",
      "Epoch 4 Iteration 2700 Training Loss 37.479728231866524 \n",
      "Epoch 4 Iteration 2800 Training Loss 0.8077993586200795 \n",
      "Epoch 4 Test Loss 10.22014301015279 \n",
      "Epoch 5 Iteration 2900 Training Loss 171.9642446356751 \n",
      "Epoch 5 Iteration 3000 Training Loss 0.08881569908579454 \n",
      "Epoch 5 Iteration 3100 Training Loss 0.023325885620577587 \n",
      "Epoch 5 Iteration 3200 Training Loss 342.6519472825005 \n",
      "Epoch 5 Iteration 3300 Training Loss 0.07533207770551427 \n",
      "Epoch 5 Iteration 3400 Training Loss 0.24108946417804222 \n",
      "Epoch 5 Test Loss 10.139757663910054 \n",
      "Epoch 6 Iteration 3500 Training Loss 344.3265658122835 \n",
      "Epoch 6 Iteration 3600 Training Loss 0.3445644434058769 \n",
      "Epoch 6 Iteration 3700 Training Loss 172.46853023357698 \n",
      "Epoch 6 Iteration 3800 Training Loss 3.060854518181707 \n",
      "Epoch 6 Iteration 3900 Training Loss 15.165445928006676 \n",
      "Epoch 6 Test Loss 10.110828906668562 \n",
      "Epoch 7 Iteration 4000 Training Loss 0.08564052397789214 \n",
      "Epoch 7 Iteration 4100 Training Loss 5.238943548709797 \n",
      "Epoch 7 Iteration 4200 Training Loss 0.4032965250301664 \n",
      "Epoch 7 Iteration 4300 Training Loss 2.7962938548203904 \n",
      "Epoch 7 Iteration 4400 Training Loss 0.03249838338150865 \n",
      "Epoch 7 Iteration 4500 Training Loss 3.171650533810998 \n",
      "Epoch 7 Test Loss 10.0783058571486 \n",
      "Epoch 8 Iteration 4600 Training Loss 5.691471234928094 \n",
      "Epoch 8 Iteration 4700 Training Loss 0.2765616343152187 \n",
      "Epoch 8 Iteration 4800 Training Loss 0.0921984739151226 \n",
      "Epoch 8 Iteration 4900 Training Loss 5.184327331653957 \n",
      "Epoch 8 Iteration 5000 Training Loss 2.0520935973511945 \n",
      "Epoch 8 Iteration 5100 Training Loss 0.3769312363235348 \n",
      "Epoch 8 Test Loss 10.054631110132314 \n",
      "Epoch 9 Iteration 5200 Training Loss 0.016427404003499475 \n",
      "Epoch 9 Iteration 5300 Training Loss 0.06478995068331171 \n",
      "Epoch 9 Iteration 5400 Training Loss 37.134430592578006 \n",
      "Epoch 9 Iteration 5500 Training Loss 1.2148401464728613 \n",
      "Epoch 9 Iteration 5600 Training Loss 0.12510834328448892 \n",
      "Epoch 9 Iteration 5700 Training Loss 0.11781423904167823 \n",
      "Epoch 9 Test Loss 10.04870280893865 \n",
      "Epoch 10 Iteration 5800 Training Loss 0.8218950471215578 \n",
      "Epoch 10 Iteration 5900 Training Loss 2.64332600768637 \n",
      "Epoch 10 Iteration 6000 Training Loss 0.03621343946880531 \n",
      "Epoch 10 Iteration 6100 Training Loss 0.022553352363291684 \n",
      "Epoch 10 Iteration 6200 Training Loss 0.593725915002488 \n",
      "Epoch 10 Test Loss 10.020278008950138 \n",
      "Epoch 11 Iteration 6300 Training Loss 0.39075421473092875 \n",
      "Epoch 11 Iteration 6400 Training Loss 0.30535115766731574 \n",
      "Epoch 11 Iteration 6500 Training Loss 0.02373794139597648 \n",
      "Epoch 11 Iteration 6600 Training Loss 0.329949595352846 \n",
      "Epoch 11 Iteration 6700 Training Loss 0.11232295208828369 \n",
      "Epoch 11 Iteration 6800 Training Loss 0.23325164482267136 \n",
      "Epoch 11 Test Loss 9.997914477370593 \n",
      "Epoch 12 Iteration 6900 Training Loss 0.22237435632557562 \n",
      "Epoch 12 Iteration 7000 Training Loss 3.3543775887659417 \n",
      "Epoch 12 Iteration 7100 Training Loss 0.15779629143646406 \n",
      "Epoch 12 Iteration 7200 Training Loss 2.651328553667479 \n",
      "Epoch 12 Iteration 7300 Training Loss 0.25687417195540774 \n",
      "Epoch 12 Iteration 7400 Training Loss 1.0106079799261853 \n",
      "Epoch 12 Test Loss 9.954096008701594 \n",
      "Epoch 13 Iteration 7500 Training Loss 341.6290375224896 \n",
      "Epoch 13 Iteration 7600 Training Loss 0.7682864847258563 \n",
      "Epoch 13 Iteration 7700 Training Loss 0.1484397569748943 \n",
      "Epoch 13 Iteration 7800 Training Loss 0.13637715952143534 \n",
      "Epoch 13 Iteration 7900 Training Loss 0.25017231318498984 \n",
      "Epoch 13 Test Loss 9.899350613676159 \n",
      "Epoch 14 Iteration 8000 Training Loss 0.12138204138231477 \n",
      "Epoch 14 Iteration 8100 Training Loss 1.007030945683508 \n",
      "Epoch 14 Iteration 8200 Training Loss 7.4652196014363135 \n",
      "Epoch 14 Iteration 8300 Training Loss 0.7387260147940764 \n",
      "Epoch 14 Iteration 8400 Training Loss 1.4146519508111384 \n",
      "Epoch 14 Iteration 8500 Training Loss 0.12177591765603617 \n",
      "Epoch 14 Test Loss 9.91061804753586 \n",
      "Epoch 15 Iteration 8600 Training Loss 0.11381253202885006 \n",
      "Epoch 15 Iteration 8700 Training Loss 0.10370641215491397 \n",
      "Epoch 15 Iteration 8800 Training Loss 168.51455740810377 \n",
      "Epoch 15 Iteration 8900 Training Loss 0.5370196796975061 \n",
      "Epoch 15 Iteration 9000 Training Loss 0.13917982976993493 \n",
      "Epoch 15 Iteration 9100 Training Loss 166.85141540032987 \n",
      "Epoch 15 Test Loss 9.980350071891753 \n",
      "Epoch 16 Iteration 9200 Training Loss 0.34097341195878916 \n",
      "Epoch 16 Iteration 9300 Training Loss 71.67596849540884 \n",
      "Epoch 16 Iteration 9400 Training Loss 0.11137411968927502 \n",
      "Epoch 16 Iteration 9500 Training Loss 0.11714310329309272 \n",
      "Epoch 16 Iteration 9600 Training Loss 0.8571148193546744 \n",
      "Epoch 16 Iteration 9700 Training Loss 0.9006893227824456 \n",
      "Epoch 16 Test Loss 9.87302633921007 \n",
      "Epoch 17 Iteration 9800 Training Loss 0.07177423212961481 \n",
      "Epoch 17 Iteration 9900 Training Loss 0.33508391933992254 \n",
      "Epoch 17 Iteration 10000 Training Loss 0.2616130625370926 \n",
      "Epoch 17 Iteration 10100 Training Loss 15.306192900825915 \n",
      "Epoch 17 Iteration 10200 Training Loss 0.19558063067201137 \n",
      "Epoch 17 Test Loss 9.868978779379669 \n",
      "Epoch 18 Iteration 10300 Training Loss 1.5132845838508822 \n",
      "Epoch 18 Iteration 10400 Training Loss 0.10157605435776398 \n",
      "Epoch 18 Iteration 10500 Training Loss 0.14921416683802752 \n",
      "Epoch 18 Iteration 10600 Training Loss 0.06960584526945414 \n",
      "Epoch 18 Iteration 10700 Training Loss 2062.608009365858 \n",
      "Epoch 18 Iteration 10800 Training Loss 0.10653007032900635 \n",
      "Epoch 18 Test Loss 9.901888187303499 \n",
      "Epoch 19 Iteration 10900 Training Loss 0.1565599759923285 \n",
      "Epoch 19 Iteration 11000 Training Loss 0.33325377783540144 \n",
      "Epoch 19 Iteration 11100 Training Loss 0.6012601060445434 \n",
      "Epoch 19 Iteration 11200 Training Loss 0.23426114094123293 \n",
      "Epoch 19 Iteration 11300 Training Loss 1.098912080904003 \n",
      "Epoch 19 Iteration 11400 Training Loss 14.974799803531404 \n",
      "Epoch 19 Test Loss 9.831761277553635 \n",
      "Epoch 20 Iteration 11500 Training Loss 0.08516986784192207 \n",
      "Epoch 20 Iteration 11600 Training Loss 12.96822532668849 \n",
      "Epoch 20 Iteration 11700 Training Loss 0.18672970391861612 \n",
      "Epoch 20 Iteration 11800 Training Loss 1.5511457406694709 \n",
      "Epoch 20 Iteration 11900 Training Loss 0.39504352121384534 \n",
      "Epoch 20 Test Loss 9.777821790505824 \n",
      "Ratio of gpu time :  0.34310578375738393\n"
     ]
    }
   ],
   "source": [
    "model = CNNModelLSTEnergy2()\n",
    "model.double()\n",
    "onGPU = True\n",
    "\n",
    "## Run on GPU ##\n",
    "if torch.cuda.is_available() and onGPU:\n",
    "    print('model on GPU')\n",
    "    model.cuda()\n",
    "\n",
    "criterion = nn.MSELoss()\n",
    "\n",
    "learning_rate = 0.000001\n",
    "\n",
    "optimizer = torch.optim.SGD(model.parameters(), lr=learning_rate)\n",
    "\n",
    "#scheduler = lr_scheduler.ReduceLROnPlateau(optimizer, 'min', patience=2)\n",
    "loss_epoch = []\n",
    "itera = 0\n",
    "time_1 = time.time()\n",
    "gpu_time = 0\n",
    "for epoch in range(num_epochs):\n",
    "    \n",
    "    for i, samples in enumerate(train_loader):\n",
    "\n",
    "        ## Run on GPU ##\n",
    "        if torch.cuda.is_available() and onGPU:\n",
    "            #Load data as variable\n",
    "            images = Variable(samples['image'].cuda())\n",
    "            labels = Variable(samples['labels'].cuda())\n",
    "        else:\n",
    "            images = Variable(samples['image'])\n",
    "            labels = Variable(samples['labels'])\n",
    "        \n",
    "        time_g = time.time()\n",
    "        # clear gradient wrt parameters\n",
    "        optimizer.zero_grad()\n",
    "    \n",
    "        # forward pass\n",
    "        outputs = model(images)\n",
    "    \n",
    "        # claculate loss\n",
    "        loss = criterion(outputs, labels[:, 0])\n",
    "    \n",
    "        # backward pass\n",
    "        loss.backward()\n",
    "        # update parameters\n",
    "        optimizer.step()\n",
    "        \n",
    "    \n",
    "        gpu_time += (time.time() - time_g)\n",
    "        \n",
    "        itera +=1\n",
    "    \n",
    "        if itera%100==0:    \n",
    "            print('Epoch {} Iteration {} Training Loss {} '.format(epoch, itera, loss.data[0]))\n",
    "            #print(model.state_dict()['conv1.weight'][0])\n",
    "    time_g = time.time()\n",
    "    energy = np.empty((0, 1), np.double)\n",
    "    energy_inferred = np.empty((0, 1), np.double)\n",
    "    for i, samples in enumerate(test_loader):\n",
    "\n",
    "        ## Run on GPU ##\n",
    "        if torch.cuda.is_available() and onGPU:\n",
    "            #Load data as variable\n",
    "            images = Variable(samples['image'].cuda())\n",
    "            labels = Variable(samples['labels'].cuda())\n",
    "        else:\n",
    "            images = Variable(samples['image'])\n",
    "            labels = Variable(samples['labels'])\n",
    "\n",
    "        # forward pass\n",
    "        outputs = model(images)\n",
    "        energy = np.append(energy, labels.data[:,0].cpu().numpy())\n",
    "        energy_inferred = np.append(energy_inferred, outputs.data[:,0].cpu().numpy())\n",
    "    \n",
    "    loss_epoch.append(np.mean((energy - energy_inferred)**2))\n",
    "    gpu_time += (time.time() - time_g)\n",
    "    print('Epoch {} Test Loss {} '.format(epoch, loss_epoch[epoch]))\n",
    "    \n",
    "ratio_gpu = gpu_time / (time.time() - time_1)\n",
    "print('Ratio of gpu time : ', ratio_gpu)"
   ]
  },
  {
   "cell_type": "code",
   "execution_count": 36,
   "metadata": {
    "collapsed": true
   },
   "outputs": [],
   "source": [
    "model.eval()\n",
    "energy = np.empty((0, 1), np.double)\n",
    "energy_inferred = np.empty((0, 1), np.double)\n",
    "for i, samples in enumerate(test_loader):\n",
    "\n",
    "    ## Run on GPU ##\n",
    "    if torch.cuda.is_available() and onGPU:\n",
    "        #Load data as variable\n",
    "        images = Variable(samples['image'].cuda())\n",
    "        labels = Variable(samples['labels'].cuda())\n",
    "    else:\n",
    "        images = Variable(samples['image'])\n",
    "        labels = Variable(samples['labels'])\n",
    "\n",
    "   \n",
    "    # forward pass\n",
    "    outputs = model(images)\n",
    "\n",
    "    energy = np.append(energy, labels.data[:,0].cpu().numpy())\n",
    "    energy_inferred = np.append(energy_inferred, outputs.data[:,0].cpu().numpy())"
   ]
  },
  {
   "cell_type": "code",
   "execution_count": 35,
   "metadata": {
    "collapsed": true,
    "scrolled": false
   },
   "outputs": [],
   "source": [
    "torch.save({'model': model.state_dict(), 'optimizer': optimizer.state_dict(), 'loss_epoch': loss_epoch}, f='/home/jacquemont/MyDriveAtLap/saved_models/model2_energy_kaimin-uniform_batchnorm_lr0.000001_20epochs.tar')"
   ]
  },
  {
   "cell_type": "code",
   "execution_count": 37,
   "metadata": {
    "scrolled": false
   },
   "outputs": [
    {
     "data": {
      "image/png": "[encoded data removed]",
      "text/plain": [
       "<matplotlib.figure.Figure at 0x7fd285e8a710>"
      ]
     },
     "metadata": {},
     "output_type": "display_data"
    }
   ],
   "source": [
    "plt.plot(range(num_epochs), loss_epoch)\n",
    "plt.show()"
   ]
  },
  {
   "cell_type": "code",
   "execution_count": null,
   "metadata": {
    "collapsed": true
   },
   "outputs": [],
   "source": [
    "loss_epoch"
   ]
  },
  {
   "cell_type": "code",
   "execution_count": 39,
   "metadata": {},
   "outputs": [
    {
     "name": "stdout",
     "output_type": "stream",
     "text": [
      "53.0754127502\n",
      "3.94033947866\n"
     ]
    },
    {
     "data": {
      "image/png": "[encoded data removed]",
      "text/plain": [
       "<matplotlib.figure.Figure at 0x7fd285e4b6a0>"
      ]
     },
     "metadata": {},
     "output_type": "display_data"
    },
    {
     "name": "stdout",
     "output_type": "stream",
     "text": [
      "Test set mse :  9.38900502712\n"
     ]
    }
   ],
   "source": [
    "print(energy.max())\n",
    "print(energy_inferred.max())\n",
    "plt.scatter(np.log10(energy), np.log10(energy_inferred))\n",
    "plt.plot([-2, 2], [-2, 2],'r')\n",
    "plt.show()\n",
    "mse = np.mean((energy - energy_inferred)**2)\n",
    "print('Test set mse : ', mse)\n"
   ]
  },
  {
   "cell_type": "code",
   "execution_count": null,
   "metadata": {
    "collapsed": true
   },
   "outputs": [],
   "source": [
    "f.close()"
   ]
  },
  {
   "cell_type": "code",
   "execution_count": null,
   "metadata": {
    "collapsed": true
   },
   "outputs": [],
   "source": []
  }
 ],
 "metadata": {
  "kernelspec": {
   "display_name": "Python 3",
   "language": "python",
   "name": "python3"
  },
  "language_info": {
   "codemirror_mode": {
    "name": "ipython",
    "version": 3
   },
   "file_extension": ".py",
   "mimetype": "text/x-python",
   "name": "python",
   "nbconvert_exporter": "python",
   "pygments_lexer": "ipython3",
   "version": "3.6.2"
  }
 },
 "nbformat": 4,
 "nbformat_minor": 2
}
