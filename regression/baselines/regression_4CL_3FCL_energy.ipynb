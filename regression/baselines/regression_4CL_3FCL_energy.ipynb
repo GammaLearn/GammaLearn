{
 "cells": [
  {
   "cell_type": "code",
   "execution_count": 1,
   "metadata": {
    "collapsed": true
   },
   "outputs": [],
   "source": [
    "from hipecta.data import ctaTelescope2Matrix\n",
    "from hipecta import core\n",
    "import numpy as np\n",
    "import h5py\n",
    "import torch\n",
    "import torch.nn as nn\n",
    "from torch.autograd import Variable\n",
    "from torch.utils.data import DataLoader, Dataset, ConcatDataset, sampler\n",
    "from torch.optim import lr_scheduler\n",
    "import matplotlib.pyplot as plt\n",
    "import hipecta.plots as plots\n",
    "from torchvision import transforms, utils\n",
    "import math\n",
    "import time\n",
    "import os\n",
    "import sys\n",
    "\n",
    "converter_path = os.path.abspath(os.path.join('/home/jacquemont/GammaLearn/converter_hdf5'))\n",
    "if converter_path not in sys.path:\n",
    "    sys.path.append(converter_path)\n",
    "    \n",
    "from converter_hdf5 import *\n",
    "from datasets import *"
   ]
  },
  {
   "cell_type": "code",
   "execution_count": 17,
   "metadata": {
    "collapsed": true
   },
   "outputs": [],
   "source": [
    "class CNNModelLSTEnergy2(nn.Module):\n",
    "    def __init__(self):\n",
    "        super(CNNModelLSTEnergy2, self).__init__()\n",
    "        # in 55x55\n",
    "        # conv1\n",
    "        self.conv1 = nn.Conv2d(in_channels=1, out_channels=16, kernel_size=3, stride=1, padding=1)\n",
    "        # non-linearity\n",
    "        self.relu1 = nn.ReLU()\n",
    "        # maxpooling 1, by default floor\n",
    "        self.maxpool1 = nn.MaxPool2d(kernel_size=2) # nn.AvgPool2d\n",
    "        # batch norm\n",
    "        self.batchnorm1 = nn.BatchNorm2d(16)\n",
    "        # size = 27x27*16\n",
    "        # conv2\n",
    "        self.conv2 = nn.Conv2d(in_channels=16, out_channels=32, kernel_size=3, stride=1, padding=1)\n",
    "        # non-linearity\n",
    "        self.relu2 = nn.ReLU()\n",
    "        # maxpooling 2\n",
    "        self.maxpool2 = nn.MaxPool2d(kernel_size=2)\n",
    "        # batch norm\n",
    "        self.batchnorm2 = nn.BatchNorm2d(32)\n",
    "        #size = 13x13*32\n",
    "        # conv3\n",
    "        self.conv3 = nn.Conv2d(in_channels=32, out_channels=64, kernel_size=3, stride=1, padding=1)\n",
    "        # non-linearity\n",
    "        self.relu3 = nn.ReLU()\n",
    "        # maxpooling 3\n",
    "        self.maxpool3 = nn.MaxPool2d(kernel_size=2) # nn.AvgPool2d\n",
    "        # batch norm\n",
    "        self.batchnorm3 = nn.BatchNorm2d(64)\n",
    "        # size = 6x6*64\n",
    "        # conv4\n",
    "        self.conv4 = nn.Conv2d(in_channels=64, out_channels=128, kernel_size=3, stride=1, padding=1)\n",
    "        # non-linearity\n",
    "        self.relu4 = nn.ReLU()    \n",
    "        # size = 3x3*128\n",
    "        # readout, regression of energy\n",
    "        self.fc1 = nn.Linear(128*6*6, 256)\n",
    "        \n",
    "        self.fc2 = nn.Linear(256, 64)\n",
    "        \n",
    "        self.fc3 = nn.Linear(64, 1)\n",
    "        \n",
    "        for m in self.modules():\n",
    "            if isinstance(m, nn.Conv2d):\n",
    "                nn.init.kaiming_uniform(m.weight.data, mode='fan_out')\n",
    "                \n",
    "    def forward(self, x):\n",
    "        out = self.conv1(x)\n",
    "        out = self.relu1(out)\n",
    "        out = self.maxpool1(out)\n",
    "        out = self.batchnorm1(out)\n",
    "        out = self.conv2(out)\n",
    "        out = self.relu2(out)\n",
    "        out = self.maxpool2(out)\n",
    "        out = self.batchnorm2(out)\n",
    "        out = self.conv3(out)\n",
    "        out = self.relu3(out)\n",
    "        out = self.maxpool3(out)\n",
    "        out = self.batchnorm3(out)\n",
    "        out = self.conv4(out)\n",
    "        out = self.relu4(out)\n",
    "\n",
    "        # Reshape out from batch_size,128,6,6 to batch_size,128*6*6\n",
    "        out = out.view(out.size(0),-1)\n",
    "        out = self.fc1(out)\n",
    "        out = self.fc2(out)\n",
    "        out = self.fc3(out)\n",
    "        return out"
   ]
  },
  {
   "cell_type": "code",
   "execution_count": 3,
   "metadata": {
    "collapsed": true,
    "scrolled": true
   },
   "outputs": [],
   "source": [
    "test_file = '/home/jacquemont/projets_CTA/gamma0.hdf5'\n",
    "f = h5py.File(test_file, 'r')\n",
    "injTable = np.array(f['/Cameras/LSTCAM/injTable'])\n",
    "nbRow = f['/Cameras/LSTCAM'].attrs['nbRow']\n",
    "nbCol = f['/Cameras/LSTCAM'].attrs['nbCol']\n",
    "test_dataset = LSTCamDataset(hdf5_file=f,\n",
    "                             transform=transforms.Compose([\n",
    "                                 TelescopeToSquareMatrix(injTable, nbRow, nbCol),\n",
    "                                 ToTensor()\n",
    "                             ]))\n",
    "\n",
    "test_dataset_2 = LSTCamDataset(hdf5_file=f)\n",
    "\n",
    "test_dataset_3 = ConcatDataset([test_dataset, test_dataset_2])\n"
   ]
  },
  {
   "cell_type": "code",
   "execution_count": 4,
   "metadata": {
    "scrolled": true
   },
   "outputs": [
    {
     "data": {
      "image/png": "[encoded data removed]",
      "text/plain": [
       "<matplotlib.figure.Figure at 0x7fd28c321630>"
      ]
     },
     "metadata": {},
     "output_type": "display_data"
    }
   ],
   "source": [
    "sample = test_dataset[4833]\n",
    "plots.plotmatrix(sample['image'][0].numpy())"
   ]
  },
  {
   "cell_type": "code",
   "execution_count": 5,
   "metadata": {},
   "outputs": [
    {
     "name": "stdout",
     "output_type": "stream",
     "text": [
      "21\n"
     ]
    }
   ],
   "source": [
    "# Creation of subset train and test\n",
    "random_indices = torch.randperm(len(test_dataset))\n",
    "train_max_index = int(len(test_dataset)*0.9)\n",
    "train_set_sampler = sampler.SubsetRandomSampler(random_indices[0:train_max_index])\n",
    "test_set_sampler = sampler.SubsetRandomSampler(random_indices[train_max_index + 1:])\n",
    "\n",
    "batch_size = 16\n",
    "n_iters = 12000\n",
    "num_epochs = int(n_iters/(len(test_dataset)*0.9/batch_size))\n",
    "print(num_epochs)\n",
    "\n",
    "# iterable subset creation\n",
    "train_loader = torch.utils.data.DataLoader(dataset=test_dataset,\n",
    "                                           batch_size=batch_size,\n",
    "                                           sampler=train_set_sampler)\n",
    "\n",
    "test_loader = torch.utils.data.DataLoader(dataset=test_dataset,\n",
    "                                          batch_size=batch_size,\n",
    "                                          sampler=test_set_sampler)"
   ]
  },
  {
   "cell_type": "code",
   "execution_count": 6,
   "metadata": {},
   "outputs": [
    {
     "name": "stdout",
     "output_type": "stream",
     "text": [
      "CUDA available\n"
     ]
    }
   ],
   "source": [
    "if torch.cuda.is_available():\n",
    "    print(\"CUDA available\")"
   ]
  },
  {
   "cell_type": "code",
   "execution_count": 18,
   "metadata": {
    "scrolled": true
   },
   "outputs": [
    {
     "name": "stdout",
     "output_type": "stream",
     "text": [
      "model on GPU\n",
      "Epoch 0 Iteration 100 Training Loss 1.3467215498665648 \n",
      "Epoch 0 Iteration 200 Training Loss 0.5740444622886223 \n",
      "Epoch 0 Iteration 300 Training Loss 0.18874118231499376 \n",
      "Epoch 0 Iteration 400 Training Loss 0.32835349105720035 \n",
      "Epoch 0 Iteration 500 Training Loss 0.6743483112230476 \n",
      "Epoch 0 Test Loss 9.54668978836299 \n",
      "Epoch 1 Iteration 600 Training Loss 0.38254213495341616 \n",
      "Epoch 1 Iteration 700 Training Loss 1.0329480629507561 \n",
      "Epoch 1 Iteration 800 Training Loss 0.29041114890060105 \n",
      "Epoch 1 Iteration 900 Training Loss 4.115803914730671 \n",
      "Epoch 1 Iteration 1000 Training Loss 0.38829779025256733 \n",
      "Epoch 1 Iteration 1100 Training Loss 0.4793772064769072 \n",
      "Epoch 1 Test Loss 8.98359412064098 \n",
      "Epoch 2 Iteration 1200 Training Loss 0.7956622124301078 \n",
      "Epoch 2 Iteration 1300 Training Loss 0.9790378797898835 \n",
      "Epoch 2 Iteration 1400 Training Loss 6.1623917669386 \n",
      "Epoch 2 Iteration 1500 Training Loss 63.94796460277533 \n",
      "Epoch 2 Iteration 1600 Training Loss 2.253155050246312 \n",
      "Epoch 2 Iteration 1700 Training Loss 146.08124493610902 \n",
      "Epoch 2 Test Loss 9.828936291191905 \n",
      "Epoch 3 Iteration 1800 Training Loss 1.3654596746818095 \n",
      "Epoch 3 Iteration 1900 Training Loss 3.0342129090871466 \n",
      "Epoch 3 Iteration 2000 Training Loss 1.9223820635975404 \n",
      "Epoch 3 Iteration 2100 Training Loss 0.7322577180892798 \n",
      "Epoch 3 Iteration 2200 Training Loss 0.1739359564808044 \n",
      "Epoch 3 Test Loss 11.730110253057388 \n",
      "Epoch 4 Iteration 2300 Training Loss 0.34676777432714667 \n",
      "Epoch 4 Iteration 2400 Training Loss 15.922586020989002 \n",
      "Epoch 4 Iteration 2500 Training Loss 0.7689808149221783 \n",
      "Epoch 4 Iteration 2600 Training Loss 0.46481649008023307 \n",
      "Epoch 4 Iteration 2700 Training Loss 2.3010906294066955 \n",
      "Epoch 4 Iteration 2800 Training Loss 1.174259688826707 \n",
      "Epoch 4 Test Loss 11.627873680745333 \n",
      "Epoch 5 Iteration 2900 Training Loss 826.302004988528 \n",
      "Epoch 5 Iteration 3000 Training Loss 20.649101160724037 \n",
      "Epoch 5 Iteration 3100 Training Loss 6.97556690939485 \n",
      "Epoch 5 Iteration 3200 Training Loss 0.9743238944378178 \n",
      "Epoch 5 Iteration 3300 Training Loss 3.7019891450428104 \n",
      "Epoch 5 Iteration 3400 Training Loss 0.34920893546614157 \n",
      "Epoch 5 Test Loss 7.586861288890247 \n",
      "Epoch 6 Iteration 3500 Training Loss 0.5224129002818463 \n",
      "Epoch 6 Iteration 3600 Training Loss 0.2576319988658839 \n",
      "Epoch 6 Iteration 3700 Training Loss 1.0281154169288254 \n",
      "Epoch 6 Iteration 3800 Training Loss 0.974601277324012 \n",
      "Epoch 6 Iteration 3900 Training Loss 0.9468563192427337 \n",
      "Epoch 6 Test Loss 8.032558495696174 \n",
      "Epoch 7 Iteration 4000 Training Loss 1.7444433361588478 \n",
      "Epoch 7 Iteration 4100 Training Loss 1.7801322625347715 \n",
      "Epoch 7 Iteration 4200 Training Loss 0.912819227383984 \n",
      "Epoch 7 Iteration 4300 Training Loss 1.2816336898538552 \n",
      "Epoch 7 Iteration 4400 Training Loss 1716.5528971104545 \n",
      "Epoch 7 Iteration 4500 Training Loss 0.3070767299793623 \n",
      "Epoch 7 Test Loss 7.224994895687228 \n",
      "Epoch 8 Iteration 4600 Training Loss 0.31312529728424077 \n",
      "Epoch 8 Iteration 4700 Training Loss 0.7548104712827485 \n",
      "Epoch 8 Iteration 4800 Training Loss 0.358611627712768 \n",
      "Epoch 8 Iteration 4900 Training Loss 2.565797255885206 \n",
      "Epoch 8 Iteration 5000 Training Loss 0.9854425456061794 \n",
      "Epoch 8 Iteration 5100 Training Loss 1.3553566115025706 \n",
      "Epoch 8 Test Loss 7.562034746208551 \n",
      "Epoch 9 Iteration 5200 Training Loss 0.7006822117116346 \n",
      "Epoch 9 Iteration 5300 Training Loss 72.3053315162596 \n",
      "Epoch 9 Iteration 5400 Training Loss 0.35452692412202325 \n",
      "Epoch 9 Iteration 5500 Training Loss 1.2424636416875083 \n",
      "Epoch 9 Iteration 5600 Training Loss 1.4629544291301626 \n",
      "Epoch 9 Iteration 5700 Training Loss 12.26222073942099 \n",
      "Epoch 9 Test Loss 8.244322095408494 \n",
      "Epoch 10 Iteration 5800 Training Loss 25.893945919142293 \n",
      "Epoch 10 Iteration 5900 Training Loss 0.5792205817194042 \n",
      "Epoch 10 Iteration 6000 Training Loss 1.3831946637807775 \n",
      "Epoch 10 Iteration 6100 Training Loss 0.9511802250137965 \n",
      "Epoch 10 Iteration 6200 Training Loss 0.5441281229663633 \n",
      "Epoch 10 Test Loss 7.942045248695804 \n",
      "Epoch 11 Iteration 6300 Training Loss 0.3328838027133597 \n",
      "Epoch 11 Iteration 6400 Training Loss 32.071445801233835 \n",
      "Epoch 11 Iteration 6500 Training Loss 1.4271237241106058 \n",
      "Epoch 11 Iteration 6600 Training Loss 0.7979695750200149 \n",
      "Epoch 11 Iteration 6700 Training Loss 0.41535099698883315 \n",
      "Epoch 11 Iteration 6800 Training Loss 33.610294972082805 \n",
      "Epoch 11 Test Loss 7.0077273830629245 \n",
      "Epoch 12 Iteration 6900 Training Loss 1.7430706241154015 \n",
      "Epoch 12 Iteration 7000 Training Loss 2.7312587559339603 \n",
      "Epoch 12 Iteration 7100 Training Loss 17.550551966347804 \n",
      "Epoch 12 Iteration 7200 Training Loss 0.8311349944464687 \n",
      "Epoch 12 Iteration 7300 Training Loss 0.2428455487358565 \n",
      "Epoch 12 Iteration 7400 Training Loss 1.8730851960454142 \n",
      "Epoch 12 Test Loss 8.585654887417496 \n",
      "Epoch 13 Iteration 7500 Training Loss 1.4746059203758368 \n",
      "Epoch 13 Iteration 7600 Training Loss 1.2902148057624805 \n",
      "Epoch 13 Iteration 7700 Training Loss 0.5677051233020569 \n",
      "Epoch 13 Iteration 7800 Training Loss 28.151491973358144 \n",
      "Epoch 13 Iteration 7900 Training Loss 2.2059812750117462 \n",
      "Epoch 13 Test Loss 6.883614455345696 \n",
      "Epoch 14 Iteration 8000 Training Loss 1.3171194312664918 \n",
      "Epoch 14 Iteration 8100 Training Loss 1.3166615780301765 \n",
      "Epoch 14 Iteration 8200 Training Loss 2.9219544041417342 \n",
      "Epoch 14 Iteration 8300 Training Loss 79.0592092801128 \n",
      "Epoch 14 Iteration 8400 Training Loss 2.557629584957802 \n",
      "Epoch 14 Iteration 8500 Training Loss 0.7440750033528247 \n",
      "Epoch 14 Test Loss 6.289746843939643 \n",
      "Epoch 15 Iteration 8600 Training Loss 0.8342762334671603 \n",
      "Epoch 15 Iteration 8700 Training Loss 0.6742273230630336 \n",
      "Epoch 15 Iteration 8800 Training Loss 0.7565382494632799 \n",
      "Epoch 15 Iteration 8900 Training Loss 0.93991198581866 \n",
      "Epoch 15 Iteration 9000 Training Loss 0.45864640262353673 \n",
      "Epoch 15 Iteration 9100 Training Loss 2.698813942278633 \n",
      "Epoch 15 Test Loss 134.34772780095886 \n",
      "Epoch 16 Iteration 9200 Training Loss 2.0480672429824356 \n",
      "Epoch 16 Iteration 9300 Training Loss 0.6715837858052336 \n",
      "Epoch 16 Iteration 9400 Training Loss 3.4696539443170495 \n",
      "Epoch 16 Iteration 9500 Training Loss 4.5392304025118655 \n",
      "Epoch 16 Iteration 9600 Training Loss 98.34107113434567 \n",
      "Epoch 16 Iteration 9700 Training Loss 32.24698829410032 \n",
      "Epoch 16 Test Loss 11.190847607396998 \n",
      "Epoch 17 Iteration 9800 Training Loss 1.1742223378732897 \n",
      "Epoch 17 Iteration 9900 Training Loss 2.262546201844542 \n",
      "Epoch 17 Iteration 10000 Training Loss 1.4155244651174772 \n",
      "Epoch 17 Iteration 10100 Training Loss 1.8326354855403322 \n",
      "Epoch 17 Iteration 10200 Training Loss 23.398713645608176 \n",
      "Epoch 17 Test Loss 8.933695606442711 \n",
      "Epoch 18 Iteration 10300 Training Loss 60.94411828717348 \n",
      "Epoch 18 Iteration 10400 Training Loss 1.7994813344648972 \n",
      "Epoch 18 Iteration 10500 Training Loss 1.7011333801889406 \n",
      "Epoch 18 Iteration 10600 Training Loss 3.531845972969366 \n",
      "Epoch 18 Iteration 10700 Training Loss 1.0168788369331891 \n",
      "Epoch 18 Iteration 10800 Training Loss 5.475313606030802 \n",
      "Epoch 18 Test Loss 7.426575924683504 \n",
      "Epoch 19 Iteration 10900 Training Loss 22.89624844000593 \n",
      "Epoch 19 Iteration 11000 Training Loss 0.4210018487017301 \n",
      "Epoch 19 Iteration 11100 Training Loss 0.8117171896118432 \n",
      "Epoch 19 Iteration 11200 Training Loss 2.615275298816531 \n",
      "Epoch 19 Iteration 11300 Training Loss 0.9806123871260015 \n",
      "Epoch 19 Iteration 11400 Training Loss 6.2667990139143 \n",
      "Epoch 19 Test Loss 8.424408594987497 \n",
      "Epoch 20 Iteration 11500 Training Loss 1.7761336316903567 \n",
      "Epoch 20 Iteration 11600 Training Loss 1.2187871777033026 \n",
      "Epoch 20 Iteration 11700 Training Loss 0.830623064552992 \n",
      "Epoch 20 Iteration 11800 Training Loss 1.6374265733700524 \n",
      "Epoch 20 Iteration 11900 Training Loss 0.7078410715183414 \n",
      "Epoch 20 Test Loss 7.091317376013682 \n",
      "Ratio of gpu time :  0.3432473903076633\n"
     ]
    }
   ],
   "source": [
    "model = CNNModelLSTEnergy2()\n",
    "model.double()\n",
    "onGPU = True\n",
    "\n",
    "## Run on GPU ##\n",
    "if torch.cuda.is_available() and onGPU:\n",
    "    print('model on GPU')\n",
    "    model.cuda()\n",
    "\n",
    "criterion = nn.MSELoss()\n",
    "\n",
    "learning_rate = 0.00005\n",
    "\n",
    "optimizer = torch.optim.SGD(model.parameters(), lr=learning_rate)\n",
    "\n",
    "#scheduler = lr_scheduler.ReduceLROnPlateau(optimizer, 'min', patience=2)\n",
    "loss_epoch = []\n",
    "itera = 0\n",
    "time_1 = time.time()\n",
    "gpu_time = 0\n",
    "for epoch in range(num_epochs):\n",
    "    \n",
    "    for i, samples in enumerate(train_loader):\n",
    "\n",
    "        ## Run on GPU ##\n",
    "        if torch.cuda.is_available() and onGPU:\n",
    "            #Load data as variable\n",
    "            images = Variable(samples['image'].cuda())\n",
    "            labels = Variable(samples['labels'].cuda())\n",
    "        else:\n",
    "            images = Variable(samples['image'])\n",
    "            labels = Variable(samples['labels'])\n",
    "        \n",
    "        time_g = time.time()\n",
    "        # clear gradient wrt parameters\n",
    "        optimizer.zero_grad()\n",
    "    \n",
    "        # forward pass\n",
    "        outputs = model(images)\n",
    "    \n",
    "        # claculate loss\n",
    "        loss = criterion(outputs, labels[:, 0])\n",
    "    \n",
    "        # backward pass\n",
    "        loss.backward()\n",
    "        # update parameters\n",
    "        optimizer.step()\n",
    "        \n",
    "    \n",
    "        gpu_time += (time.time() - time_g)\n",
    "        \n",
    "        itera +=1\n",
    "    \n",
    "        if itera%100==0:    \n",
    "            print('Epoch {} Iteration {} Training Loss {} '.format(epoch, itera, loss.data[0]))\n",
    "            #print(model.state_dict()['conv1.weight'][0])\n",
    "    time_g = time.time()\n",
    "    energy = np.empty((0, 1), np.double)\n",
    "    energy_inferred = np.empty((0, 1), np.double)\n",
    "    for i, samples in enumerate(test_loader):\n",
    "\n",
    "        ## Run on GPU ##\n",
    "        if torch.cuda.is_available() and onGPU:\n",
    "            #Load data as variable\n",
    "            images = Variable(samples['image'].cuda())\n",
    "            labels = Variable(samples['labels'].cuda())\n",
    "        else:\n",
    "            images = Variable(samples['image'])\n",
    "            labels = Variable(samples['labels'])\n",
    "\n",
    "        # forward pass\n",
    "        outputs = model(images)\n",
    "        energy = np.append(energy, labels.data[:,0].cpu().numpy())\n",
    "        energy_inferred = np.append(energy_inferred, outputs.data[:,0].cpu().numpy())\n",
    "    \n",
    "    loss_epoch.append(np.mean((energy - energy_inferred)**2))\n",
    "    gpu_time += (time.time() - time_g)\n",
    "    print('Epoch {} Test Loss {} '.format(epoch, loss_epoch[epoch]))\n",
    "    \n",
    "ratio_gpu = gpu_time / (time.time() - time_1)\n",
    "print('Ratio of gpu time : ', ratio_gpu)"
   ]
  },
  {
   "cell_type": "code",
   "execution_count": 19,
   "metadata": {
    "collapsed": true
   },
   "outputs": [],
   "source": [
    "model.eval()\n",
    "energy = np.empty((0, 1), np.double)\n",
    "energy_inferred = np.empty((0, 1), np.double)\n",
    "for i, samples in enumerate(test_loader):\n",
    "\n",
    "    ## Run on GPU ##\n",
    "    if torch.cuda.is_available() and onGPU:\n",
    "        #Load data as variable\n",
    "        images = Variable(samples['image'].cuda())\n",
    "        labels = Variable(samples['labels'].cuda())\n",
    "    else:\n",
    "        images = Variable(samples['image'])\n",
    "        labels = Variable(samples['labels'])\n",
    "\n",
    "   \n",
    "    # forward pass\n",
    "    outputs = model(images)\n",
    "\n",
    "    energy = np.append(energy, labels.data[:,0].cpu().numpy())\n",
    "    energy_inferred = np.append(energy_inferred, outputs.data[:,0].cpu().numpy())"
   ]
  },
  {
   "cell_type": "code",
   "execution_count": 20,
   "metadata": {
    "collapsed": true,
    "scrolled": false
   },
   "outputs": [],
   "source": [
    "torch.save({'model': model.state_dict(), 'optimizer': optimizer.state_dict(), 'loss_epoch': loss_epoch}, f='/home/jacquemont/MyDriveAtLap/saved_models/model2_energy_kaimin-uniform_batchnorm_lr0.00005_20epochs.tar')"
   ]
  },
  {
   "cell_type": "code",
   "execution_count": 21,
   "metadata": {
    "scrolled": true
   },
   "outputs": [
    {
     "data": {
      "image/png": "[encoded data removed]",
      "text/plain": [
       "<matplotlib.figure.Figure at 0x7fd288effc50>"
      ]
     },
     "metadata": {},
     "output_type": "display_data"
    }
   ],
   "source": [
    "plt.plot(range(num_epochs), loss_epoch)\n",
    "plt.show()"
   ]
  },
  {
   "cell_type": "code",
   "execution_count": null,
   "metadata": {
    "collapsed": true
   },
   "outputs": [],
   "source": [
    "loss_epoch"
   ]
  },
  {
   "cell_type": "code",
   "execution_count": 22,
   "metadata": {},
   "outputs": [
    {
     "name": "stdout",
     "output_type": "stream",
     "text": [
      "53.0754127502\n",
      "68.2378473661\n"
     ]
    },
    {
     "data": {
      "image/png": "[encoded data removed]",
      "text/plain": [
       "<matplotlib.figure.Figure at 0x7fd28737a828>"
      ]
     },
     "metadata": {},
     "output_type": "display_data"
    },
    {
     "name": "stdout",
     "output_type": "stream",
     "text": [
      "Test set mse :  6.30932306555\n"
     ]
    }
   ],
   "source": [
    "print(energy.max())\n",
    "print(energy_inferred.max())\n",
    "plt.scatter(energy, energy_inferred)\n",
    "plt.plot(range(50),'r')\n",
    "plt.show()\n",
    "mse = np.mean((energy - energy_inferred)**2)\n",
    "print('Test set mse : ', mse)\n"
   ]
  },
  {
   "cell_type": "code",
   "execution_count": null,
   "metadata": {
    "collapsed": true
   },
   "outputs": [],
   "source": [
    "f.close()"
   ]
  },
  {
   "cell_type": "code",
   "execution_count": null,
   "metadata": {
    "collapsed": true
   },
   "outputs": [],
   "source": []
  }
 ],
 "metadata": {
  "kernelspec": {
   "display_name": "Python 3",
   "language": "python",
   "name": "python3"
  },
  "language_info": {
   "codemirror_mode": {
    "name": "ipython",
    "version": 3
   },
   "file_extension": ".py",
   "mimetype": "text/x-python",
   "name": "python",
   "nbconvert_exporter": "python",
   "pygments_lexer": "ipython3",
   "version": "3.6.2"
  }
 },
 "nbformat": 4,
 "nbformat_minor": 2
}
