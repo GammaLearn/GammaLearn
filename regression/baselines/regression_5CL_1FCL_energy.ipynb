{
 "cells": [
  {
   "cell_type": "code",
   "execution_count": 1,
   "metadata": {
    "collapsed": true
   },
   "outputs": [],
   "source": [
    "from hipecta.data import ctaTelescope2Matrix\n",
    "from hipecta import core\n",
    "import numpy as np\n",
    "import h5py\n",
    "import torch\n",
    "import torch.nn as nn\n",
    "from torch.autograd import Variable\n",
    "from torch.utils.data import DataLoader, Dataset, ConcatDataset, sampler\n",
    "from torch.optim import lr_scheduler\n",
    "import matplotlib.pyplot as plt\n",
    "import hipecta.plots as plots\n",
    "from torchvision import transforms, utils\n",
    "import math\n",
    "import time\n",
    "import os\n",
    "import sys\n",
    "\n",
    "converter_path = os.path.abspath(os.path.join('/home/jacquemont/GammaLearn/converter_hdf5'))\n",
    "if converter_path not in sys.path:\n",
    "    sys.path.append(converter_path)\n",
    "    \n",
    "from converter_hdf5 import *\n",
    "from datasets import *"
   ]
  },
  {
   "cell_type": "code",
   "execution_count": 2,
   "metadata": {
    "collapsed": true
   },
   "outputs": [],
   "source": [
    "class CNNModelLST(nn.Module):\n",
    "    def __init__(self):\n",
    "        super(CNNModelLST, self).__init__()\n",
    "        # conv1\n",
    "        self.conv1 = nn.Conv2d(in_channels=1, out_channels=16, kernel_size=3, stride=1, padding=1)\n",
    "        # non-linearity\n",
    "        self.relu1 = nn.ReLU()\n",
    "        # maxpooling 1, by default floor\n",
    "        self.maxpool1 = nn.MaxPool2d(kernel_size=2) # nn.AvgPool2d\n",
    "        # batch norm\n",
    "        self.batchnorm1 = nn.BatchNorm2d(16)\n",
    "        \n",
    "        # conv2\n",
    "        self.conv2 = nn.Conv2d(in_channels=16, out_channels=32, kernel_size=3, stride=1, padding=1)\n",
    "        # non-linearity\n",
    "        self.relu2 = nn.ReLU()\n",
    "        # maxpooling 2\n",
    "        self.maxpool2 = nn.MaxPool2d(kernel_size=2)\n",
    "        # batch norm\n",
    "        self.batchnorm2 = nn.BatchNorm2d(32)\n",
    "        \n",
    "        # conv3\n",
    "        self.conv3 = nn.Conv2d(in_channels=32, out_channels=64, kernel_size=3, stride=1, padding=1)\n",
    "        # non-linearity\n",
    "        self.relu3 = nn.ReLU()\n",
    "        # maxpooling 3\n",
    "        self.maxpool3 = nn.MaxPool2d(kernel_size=2) # nn.AvgPool2d\n",
    "        # batch norm\n",
    "        self.batchnorm3 = nn.BatchNorm2d(64)\n",
    "        \n",
    "        # conv4\n",
    "        self.conv4 = nn.Conv2d(in_channels=64, out_channels=128, kernel_size=3, stride=1, padding=1)\n",
    "        # non-linearity\n",
    "        self.relu4 = nn.ReLU()\n",
    "        # maxpooling 4\n",
    "        self.maxpool4 = nn.MaxPool2d(kernel_size=2) # nn.AvgPool2d\n",
    "        # batch norm\n",
    "        self.batchnorm4 = nn.BatchNorm2d(128)\n",
    "        \n",
    "        # conv5\n",
    "        self.conv5 = nn.Conv2d(in_channels=128, out_channels=128, kernel_size=3, stride=1, padding=0)\n",
    "        # non-linearity\n",
    "        self.relu5 = nn.ReLU()\n",
    "        \n",
    "        # readout, regression of energy, altitude, azimuth, xCore, yCore\n",
    "        #self.fc1 = nn.Linear(128, 5)\n",
    "         # readout, regression of energy\n",
    "        self.fc1 = nn.Linear(128, 1)\n",
    "        \n",
    "        for m in self.modules():\n",
    "            if isinstance(m, nn.Conv2d):\n",
    "                nn.init.kaiming_uniform(m.weight.data, mode='fan_out')\n",
    "                \n",
    "    def forward(self, x):\n",
    "        out = self.conv1(x)\n",
    "        out = self.relu1(out)\n",
    "        out = self.maxpool1(out)\n",
    "        out = self.batchnorm1(out)\n",
    "        out = self.conv2(out)\n",
    "        out = self.relu2(out)\n",
    "        out = self.maxpool2(out)\n",
    "        out = self.batchnorm2(out)\n",
    "        out = self.conv3(out)\n",
    "        out = self.relu3(out)\n",
    "        out = self.maxpool3(out)\n",
    "        out = self.batchnorm3(out)\n",
    "        out = self.conv4(out)\n",
    "        out = self.relu4(out)\n",
    "        out = self.maxpool4(out)\n",
    "        out = self.batchnorm4(out)\n",
    "        out = self.conv5(out)\n",
    "        out = self.relu5(out)\n",
    "\n",
    "        # Reshape out from 100,128,1 to 100,128\n",
    "        out = out.view(out.size(0),-1)\n",
    "        \n",
    "        out = self.fc1(out)\n",
    "        return out"
   ]
  },
  {
   "cell_type": "code",
   "execution_count": 3,
   "metadata": {
    "collapsed": true,
    "scrolled": true
   },
   "outputs": [],
   "source": [
    "test_file = '/home/jacquemont/projets_CTA/gamma0.hdf5'\n",
    "f = h5py.File(test_file, 'r')\n",
    "injTable = np.array(f['/Cameras/LSTCAM/injTable'])\n",
    "nbRow = f['/Cameras/LSTCAM'].attrs['nbRow']\n",
    "nbCol = f['/Cameras/LSTCAM'].attrs['nbCol']\n",
    "test_dataset = LSTCamDataset(hdf5_file=f,\n",
    "                             transform=transforms.Compose([\n",
    "                                 TelescopeToSquareMatrix(injTable, nbRow, nbCol),\n",
    "                                 ToTensor()\n",
    "                             ]))\n",
    "\n",
    "test_dataset_2 = LSTCamDataset(hdf5_file=f)\n",
    "\n",
    "test_dataset_3 = ConcatDataset([test_dataset, test_dataset_2])\n"
   ]
  },
  {
   "cell_type": "code",
   "execution_count": 61,
   "metadata": {},
   "outputs": [
    {
     "name": "stdout",
     "output_type": "stream",
     "text": [
      "21\n"
     ]
    }
   ],
   "source": [
    "# Creation of subset train and test\n",
    "random_indices = torch.randperm(len(test_dataset))\n",
    "train_max_index = int(len(test_dataset)*0.9)\n",
    "train_set_sampler = sampler.SubsetRandomSampler(random_indices[0:train_max_index])\n",
    "test_set_sampler = sampler.SubsetRandomSampler(random_indices[train_max_index + 1:])\n",
    "\n",
    "batch_size = 16\n",
    "n_iters = 12000\n",
    "num_epochs = int(n_iters/(len(test_dataset)*0.9/batch_size))\n",
    "print(num_epochs)\n",
    "\n",
    "# iterable subset creation\n",
    "train_loader = torch.utils.data.DataLoader(dataset=test_dataset,\n",
    "                                           batch_size=batch_size,\n",
    "                                           sampler=train_set_sampler)\n",
    "\n",
    "test_loader = torch.utils.data.DataLoader(dataset=test_dataset,\n",
    "                                          sampler=test_set_sampler)"
   ]
  },
  {
   "cell_type": "code",
   "execution_count": 23,
   "metadata": {},
   "outputs": [
    {
     "name": "stdout",
     "output_type": "stream",
     "text": [
      "CUDA available\n"
     ]
    }
   ],
   "source": [
    "if torch.cuda.is_available():\n",
    "    print(\"CUDA available\")"
   ]
  },
  {
   "cell_type": "code",
   "execution_count": 55,
   "metadata": {
    "scrolled": true
   },
   "outputs": [
    {
     "name": "stdout",
     "output_type": "stream",
     "text": [
      "model on GPU\n",
      "Epoch 0 Iteration 100 Training Loss 3.8208774586492034 \n",
      "Epoch 0 Iteration 200 Training Loss 0.7792086693708603 \n",
      "Epoch 0 Iteration 300 Training Loss 0.23610897522635665 \n",
      "Epoch 0 Iteration 400 Training Loss 0.5251088428369955 \n",
      "Epoch 0 Iteration 500 Training Loss 0.8111719492340805 \n",
      "Epoch 0 Test Loss 9.221173484481923 \n",
      "Epoch 1 Iteration 600 Training Loss 0.5854607047040093 \n",
      "Epoch 1 Iteration 700 Training Loss 0.2811007242873116 \n",
      "Epoch 1 Iteration 800 Training Loss 0.2683123087477034 \n",
      "Epoch 1 Iteration 900 Training Loss 0.32342256156079247 \n",
      "Epoch 1 Iteration 1000 Training Loss 0.8256225461982731 \n",
      "Epoch 1 Iteration 1100 Training Loss 1.0164860330827805 \n",
      "Epoch 1 Test Loss 8.95285500590941 \n",
      "Epoch 2 Iteration 1200 Training Loss 12.39975038620365 \n",
      "Epoch 2 Iteration 1300 Training Loss 0.5495629830464691 \n",
      "Epoch 2 Iteration 1400 Training Loss 4.446210267669519 \n",
      "Epoch 2 Iteration 1500 Training Loss 0.20240762428677506 \n",
      "Epoch 2 Iteration 1600 Training Loss 0.2553311501107189 \n",
      "Epoch 2 Iteration 1700 Training Loss 0.6043538392690794 \n",
      "Epoch 2 Test Loss 8.803916903704806 \n",
      "Epoch 3 Iteration 1800 Training Loss 0.387563747784825 \n",
      "Epoch 3 Iteration 1900 Training Loss 9.787872243777262 \n",
      "Epoch 3 Iteration 2000 Training Loss 0.4455417472678442 \n",
      "Epoch 3 Iteration 2100 Training Loss 0.5366457534749082 \n",
      "Epoch 3 Iteration 2200 Training Loss 0.3744792435343318 \n",
      "Epoch 3 Test Loss 8.790357770053934 \n",
      "Epoch 4 Iteration 2300 Training Loss 0.4652532075687768 \n",
      "Epoch 4 Iteration 2400 Training Loss 0.3896372066185865 \n",
      "Epoch 4 Iteration 2500 Training Loss 0.49509578559049017 \n",
      "Epoch 4 Iteration 2600 Training Loss 1.1291133276589844 \n",
      "Epoch 4 Iteration 2700 Training Loss 1.3426891837821369 \n",
      "Epoch 4 Iteration 2800 Training Loss 4.197201616967147 \n",
      "Epoch 4 Test Loss 8.348852246170969 \n",
      "Epoch 5 Iteration 2900 Training Loss 3.894686079110613 \n",
      "Epoch 5 Iteration 3000 Training Loss 0.4665548505584074 \n",
      "Epoch 5 Iteration 3100 Training Loss 0.6488901364454698 \n",
      "Epoch 5 Iteration 3200 Training Loss 0.42228776913865385 \n",
      "Epoch 5 Iteration 3300 Training Loss 0.9365533353139878 \n",
      "Epoch 5 Iteration 3400 Training Loss 126.47946634177595 \n",
      "Epoch 5 Test Loss 8.957674419434142 \n",
      "Epoch 6 Iteration 3500 Training Loss 0.5617866333387317 \n",
      "Epoch 6 Iteration 3600 Training Loss 0.8900764640601182 \n",
      "Epoch 6 Iteration 3700 Training Loss 2.54110322267287 \n",
      "Epoch 6 Iteration 3800 Training Loss 0.9247215499084022 \n",
      "Epoch 6 Iteration 3900 Training Loss 1.0937219524412256 \n",
      "Epoch 6 Test Loss 8.625841534264177 \n",
      "Epoch 7 Iteration 4000 Training Loss 0.5267253824221407 \n",
      "Epoch 7 Iteration 4100 Training Loss 2.6884872495071748 \n",
      "Epoch 7 Iteration 4200 Training Loss 312.8887138591976 \n",
      "Epoch 7 Iteration 4300 Training Loss 0.29838860718720134 \n",
      "Epoch 7 Iteration 4400 Training Loss 1.5375038402030692 \n",
      "Epoch 7 Iteration 4500 Training Loss 1.399656840782058 \n",
      "Epoch 7 Test Loss 8.404155684628599 \n",
      "Epoch 8 Iteration 4600 Training Loss 0.2843059130901251 \n",
      "Epoch 8 Iteration 4700 Training Loss 2.97565199919762 \n",
      "Epoch 8 Iteration 4800 Training Loss 2.828628218058054 \n",
      "Epoch 8 Iteration 4900 Training Loss 0.1996615852093446 \n",
      "Epoch 8 Iteration 5000 Training Loss 0.5709235715560178 \n",
      "Epoch 8 Iteration 5100 Training Loss 0.8740506329822905 \n",
      "Epoch 8 Test Loss 8.760344598886055 \n",
      "Epoch 9 Iteration 5200 Training Loss 0.8610366491337702 \n",
      "Epoch 9 Iteration 5300 Training Loss 1.3940010966646932 \n",
      "Epoch 9 Iteration 5400 Training Loss 1.0003254824259071 \n",
      "Epoch 9 Iteration 5500 Training Loss 71.64817857256104 \n",
      "Epoch 9 Iteration 5600 Training Loss 0.7662705779265104 \n",
      "Epoch 9 Iteration 5700 Training Loss 0.6980181610314695 \n",
      "Epoch 9 Test Loss 8.157540013616718 \n",
      "Epoch 10 Iteration 5800 Training Loss 0.5196307338150477 \n",
      "Epoch 10 Iteration 5900 Training Loss 0.282181112281073 \n",
      "Epoch 10 Iteration 6000 Training Loss 72.10806313664382 \n",
      "Epoch 10 Iteration 6100 Training Loss 0.4817767295509139 \n",
      "Epoch 10 Iteration 6200 Training Loss 0.3178546254731527 \n",
      "Epoch 10 Test Loss 8.266644869184992 \n",
      "Epoch 11 Iteration 6300 Training Loss 7.011218447677759 \n",
      "Epoch 11 Iteration 6400 Training Loss 0.3912948216282979 \n",
      "Epoch 11 Iteration 6500 Training Loss 115.96652141366529 \n",
      "Epoch 11 Iteration 6600 Training Loss 4.445821483019959 \n",
      "Epoch 11 Iteration 6700 Training Loss 0.29243056307773224 \n",
      "Epoch 11 Iteration 6800 Training Loss 0.7906697304847626 \n",
      "Epoch 11 Test Loss 7.872268412237179 \n",
      "Epoch 12 Iteration 6900 Training Loss 0.6720200107836868 \n",
      "Epoch 12 Iteration 7000 Training Loss 5.99796346076546 \n",
      "Epoch 12 Iteration 7100 Training Loss 0.050566860343755626 \n",
      "Epoch 12 Iteration 7200 Training Loss 8.28209868446918 \n",
      "Epoch 12 Iteration 7300 Training Loss 0.28063484315643483 \n",
      "Epoch 12 Iteration 7400 Training Loss 0.8807332618116155 \n",
      "Epoch 12 Test Loss 8.227353226377266 \n",
      "Epoch 13 Iteration 7500 Training Loss 0.24777850646036376 \n",
      "Epoch 13 Iteration 7600 Training Loss 0.3549380366750943 \n",
      "Epoch 13 Iteration 7700 Training Loss 0.8171755313095298 \n",
      "Epoch 13 Iteration 7800 Training Loss 249.07314385801672 \n",
      "Epoch 13 Iteration 7900 Training Loss 59.268063901093925 \n",
      "Epoch 13 Test Loss 8.285380368154227 \n",
      "Epoch 14 Iteration 8000 Training Loss 0.6580861391669612 \n",
      "Epoch 14 Iteration 8100 Training Loss 0.4769475692074837 \n",
      "Epoch 14 Iteration 8200 Training Loss 3.7375236673164456 \n",
      "Epoch 14 Iteration 8300 Training Loss 1.2169435090839704 \n",
      "Epoch 14 Iteration 8400 Training Loss 0.8024424193383576 \n",
      "Epoch 14 Iteration 8500 Training Loss 0.704731213441433 \n",
      "Epoch 14 Test Loss 8.49110819988276 \n",
      "Epoch 15 Iteration 8600 Training Loss 0.31903231950305144 \n",
      "Epoch 15 Iteration 8700 Training Loss 0.07357899938587831 \n",
      "Epoch 15 Iteration 8800 Training Loss 0.5441132901463381 \n",
      "Epoch 15 Iteration 8900 Training Loss 142.9640683419465 \n",
      "Epoch 15 Iteration 9000 Training Loss 33.176244398728215 \n",
      "Epoch 15 Iteration 9100 Training Loss 0.2731541203678538 \n",
      "Epoch 15 Test Loss 8.068652397803135 \n",
      "Epoch 16 Iteration 9200 Training Loss 1.0573714065161766 \n",
      "Epoch 16 Iteration 9300 Training Loss 5.788066012563814 \n",
      "Epoch 16 Iteration 9400 Training Loss 0.46106478993392574 \n",
      "Epoch 16 Iteration 9500 Training Loss 3.663284479374158 \n",
      "Epoch 16 Iteration 9600 Training Loss 1.3155499586388615 \n",
      "Epoch 16 Iteration 9700 Training Loss 0.7626171039101024 \n",
      "Epoch 16 Test Loss 7.739495470046714 \n",
      "Epoch 17 Iteration 9800 Training Loss 0.4060528795781143 \n",
      "Epoch 17 Iteration 9900 Training Loss 1.4905057036659808 \n",
      "Epoch 17 Iteration 10000 Training Loss 1.1339617843595262 \n",
      "Epoch 17 Iteration 10100 Training Loss 7.4436128398929045 \n",
      "Epoch 17 Iteration 10200 Training Loss 0.15461350939782414 \n",
      "Epoch 17 Test Loss 8.934488212731258 \n",
      "Epoch 18 Iteration 10300 Training Loss 50.6060521480739 \n",
      "Epoch 18 Iteration 10400 Training Loss 0.5867652814115933 \n",
      "Epoch 18 Iteration 10500 Training Loss 0.18745031397118508 \n",
      "Epoch 18 Iteration 10600 Training Loss 4.392115394023999 \n",
      "Epoch 18 Iteration 10700 Training Loss 0.8383671989536399 \n",
      "Epoch 18 Iteration 10800 Training Loss 0.060386370615985854 \n",
      "Epoch 18 Test Loss 8.560784580430534 \n",
      "Epoch 19 Iteration 10900 Training Loss 3.3079747851168695 \n",
      "Epoch 19 Iteration 11000 Training Loss 0.18776922380253191 \n",
      "Epoch 19 Iteration 11100 Training Loss 0.1808509134349998 \n",
      "Epoch 19 Iteration 11200 Training Loss 0.9683618627885913 \n",
      "Epoch 19 Iteration 11300 Training Loss 2.565465822107476 \n",
      "Epoch 19 Iteration 11400 Training Loss 22.04066931522104 \n",
      "Epoch 19 Test Loss 6.45234284489664 \n",
      "Epoch 20 Iteration 11500 Training Loss 2.3426430304315335 \n",
      "Epoch 20 Iteration 11600 Training Loss 0.4415809440752413 \n",
      "Epoch 20 Iteration 11700 Training Loss 4.630630359267126 \n",
      "Epoch 20 Iteration 11800 Training Loss 0.2858623926422509 \n",
      "Epoch 20 Iteration 11900 Training Loss 0.7461767246230122 \n",
      "Epoch 20 Test Loss 8.850879739875328 \n",
      "Ratio of gpu time :  0.3437003454124422\n"
     ]
    }
   ],
   "source": [
    "model = CNNModelLST()\n",
    "model.double()\n",
    "onGPU = True\n",
    "\n",
    "## Run on GPU ##\n",
    "if torch.cuda.is_available() and onGPU:\n",
    "    print('model on GPU')\n",
    "    model.cuda()\n",
    "\n",
    "criterion = nn.MSELoss()\n",
    "\n",
    "learning_rate = 0.00001\n",
    "\n",
    "optimizer = torch.optim.SGD(model.parameters(), lr=learning_rate)\n",
    "\n",
    "#scheduler = lr_scheduler.ReduceLROnPlateau(optimizer, 'min', patience=2)\n",
    "loss_epoch = []\n",
    "itera = 0\n",
    "time_1 = time.time()\n",
    "gpu_time = 0\n",
    "for epoch in range(num_epochs):\n",
    "    model.train()\n",
    "    for i, samples in enumerate(train_loader):\n",
    "\n",
    "        ## Run on GPU ##\n",
    "        if torch.cuda.is_available() and onGPU:\n",
    "            #Load data as variable\n",
    "            images = Variable(samples['image'].cuda())\n",
    "            labels = Variable(samples['labels'].cuda())\n",
    "        else:\n",
    "            images = Variable(samples['image'])\n",
    "            labels = Variable(samples['labels'])\n",
    "        \n",
    "        time_g = time.time()\n",
    "        # clear gradient wrt parameters\n",
    "        optimizer.zero_grad()\n",
    "    \n",
    "        # forward pass\n",
    "        outputs = model(images)\n",
    "    \n",
    "        # claculate loss\n",
    "        loss = criterion(outputs, labels[:, 0])\n",
    "    \n",
    "        # backward pass\n",
    "        loss.backward()\n",
    "        # update parameters\n",
    "        optimizer.step()\n",
    "        \n",
    "    \n",
    "        gpu_time += (time.time() - time_g)\n",
    "        \n",
    "        itera +=1\n",
    "    \n",
    "        if itera%100==0:    \n",
    "            print('Epoch {} Iteration {} Training Loss {} '.format(epoch, itera, loss.data[0]))\n",
    "            #print(model.state_dict()['conv1.weight'][0])\n",
    "    time_g = time.time()\n",
    "    energy = np.empty((0, 1), np.double)\n",
    "    energy_inferred = np.empty((0, 1), np.double)\n",
    "    for i, samples in enumerate(test_loader):\n",
    "\n",
    "        ## Run on GPU ##\n",
    "        if torch.cuda.is_available() and onGPU:\n",
    "            #Load data as variable\n",
    "            images = Variable(samples['image'].cuda())\n",
    "            labels = Variable(samples['labels'].cuda())\n",
    "        else:\n",
    "            images = Variable(samples['image'])\n",
    "            labels = Variable(samples['labels'])\n",
    "        model.eval()\n",
    "        # forward pass\n",
    "        outputs = model(images)\n",
    "        energy = np.append(energy, labels.data[:,0].cpu().numpy())\n",
    "        energy_inferred = np.append(energy_inferred, outputs.data[:,0].cpu().numpy())\n",
    "    \n",
    "    loss_epoch.append(np.mean((energy - energy_inferred)**2))\n",
    "    gpu_time += (time.time() - time_g)\n",
    "    print('Epoch {} Test Loss {} '.format(epoch, loss_epoch[epoch]))\n",
    "    \n",
    "ratio_gpu = gpu_time / (time.time() - time_1)\n",
    "print('Ratio of gpu time : ', ratio_gpu)"
   ]
  },
  {
   "cell_type": "code",
   "execution_count": 62,
   "metadata": {
    "collapsed": true
   },
   "outputs": [],
   "source": [
    "model.eval()\n",
    "energy = np.empty((0, 1), np.double)\n",
    "energy_inferred = np.empty((0, 1), np.double)\n",
    "for i, samples in enumerate(test_loader):\n",
    "\n",
    "    ## Run on GPU ##\n",
    "    if torch.cuda.is_available() and onGPU:\n",
    "        #Load data as variable\n",
    "        images = Variable(samples['image'].cuda())\n",
    "        labels = Variable(samples['labels'].cuda())\n",
    "    else:\n",
    "        images = Variable(samples['image'])\n",
    "        labels = Variable(samples['labels'])\n",
    "\n",
    "   \n",
    "    # forward pass\n",
    "    outputs = model(images)\n",
    "\n",
    "    energy = np.append(energy, labels.data[:,0].cpu().numpy())\n",
    "    energy_inferred = np.append(energy_inferred, outputs.data[:,0].cpu().numpy())"
   ]
  },
  {
   "cell_type": "code",
   "execution_count": 57,
   "metadata": {
    "collapsed": true,
    "scrolled": false
   },
   "outputs": [],
   "source": [
    "torch.save({'model': model.state_dict(), 'optimizer': optimizer.state_dict(), 'loss_epoch': loss_epoch}, f='/home/jacquemont/MyDriveAtLap/saved_models/model1_kaimin-uniform_batchnorm_lr0.00001_20epochs.tar')"
   ]
  },
  {
   "cell_type": "code",
   "execution_count": 58,
   "metadata": {
    "scrolled": false
   },
   "outputs": [
    {
     "data": {
      "image/png": "[encoded data removed]",
      "text/plain": [
       "<matplotlib.figure.Figure at 0x7ff4d86602b0>"
      ]
     },
     "metadata": {},
     "output_type": "display_data"
    }
   ],
   "source": [
    "plt.plot(range(num_epochs), loss_epoch)\n",
    "plt.show()"
   ]
  },
  {
   "cell_type": "code",
   "execution_count": null,
   "metadata": {
    "collapsed": true
   },
   "outputs": [],
   "source": [
    "loss_epoch"
   ]
  },
  {
   "cell_type": "code",
   "execution_count": 63,
   "metadata": {},
   "outputs": [
    {
     "name": "stdout",
     "output_type": "stream",
     "text": [
      "53.0754127502\n",
      "57.0285673402\n"
     ]
    },
    {
     "data": {
      "image/png": "[encoded data removed]",
      "text/plain": [
       "<matplotlib.figure.Figure at 0x7ff4d81a8b00>"
      ]
     },
     "metadata": {},
     "output_type": "display_data"
    },
    {
     "name": "stdout",
     "output_type": "stream",
     "text": [
      "Test set mse :  9.29953676567\n"
     ]
    }
   ],
   "source": [
    "print(energy.max())\n",
    "print(energy_inferred.max())\n",
    "plt.scatter(energy, energy_inferred)\n",
    "plt.plot(range(50),'r')\n",
    "plt.show()\n",
    "mse = np.mean((energy - energy_inferred)**2)\n",
    "print('Test set mse : ', mse)\n"
   ]
  },
  {
   "cell_type": "code",
   "execution_count": null,
   "metadata": {
    "collapsed": true
   },
   "outputs": [],
   "source": [
    "f.close()"
   ]
  },
  {
   "cell_type": "code",
   "execution_count": 38,
   "metadata": {
    "collapsed": true
   },
   "outputs": [],
   "source": [
    "mdl = torch.load(f='/home/jacquemont/MyDriveAtLap/saved_models/model1_kaimin-uniform_batchnorm_lr0.001_20epochs.tar')\n",
    "l = mdl['loss_epoch']"
   ]
  },
  {
   "cell_type": "code",
   "execution_count": 40,
   "metadata": {},
   "outputs": [
    {
     "data": {
      "image/png": "[encoded data removed]",
      "text/plain": [
       "<matplotlib.figure.Figure at 0x7ff4d814c0f0>"
      ]
     },
     "metadata": {},
     "output_type": "display_data"
    }
   ],
   "source": [
    "plt.scatter(range(21), l)\n",
    "plt.show()"
   ]
  },
  {
   "cell_type": "code",
   "execution_count": null,
   "metadata": {
    "collapsed": true
   },
   "outputs": [],
   "source": []
  }
 ],
 "metadata": {
  "kernelspec": {
   "display_name": "Python 3",
   "language": "python",
   "name": "python3"
  },
  "language_info": {
   "codemirror_mode": {
    "name": "ipython",
    "version": 3
   },
   "file_extension": ".py",
   "mimetype": "text/x-python",
   "name": "python",
   "nbconvert_exporter": "python",
   "pygments_lexer": "ipython3",
   "version": "3.6.2"
  }
 },
 "nbformat": 4,
 "nbformat_minor": 2
}
