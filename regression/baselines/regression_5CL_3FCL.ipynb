{
 "cells": [
  {
   "cell_type": "code",
   "execution_count": 2,
   "metadata": {
    "collapsed": true
   },
   "outputs": [],
   "source": [
    "from hipecta.data import ctaTelescope2Matrix\n",
    "from hipecta import core\n",
    "import numpy as np\n",
    "import h5py\n",
    "import torch\n",
    "import torch.nn as nn\n",
    "from torch.autograd import Variable\n",
    "from torch.utils.data import DataLoader, Dataset, ConcatDataset, sampler\n",
    "from torch.optim import lr_scheduler\n",
    "import matplotlib.pyplot as plt\n",
    "import hipecta.plots as plots\n",
    "from torchvision import transforms, utils\n",
    "import math\n",
    "import time\n",
    "import os\n",
    "import sys\n",
    "\n",
    "converter_path = os.path.abspath(os.path.join('/home/jacquemont/GammaLearn/converter_hdf5'))\n",
    "if converter_path not in sys.path:\n",
    "    sys.path.append(converter_path)\n",
    "    \n",
    "from converter_hdf5 import *\n",
    "from datasets import *"
   ]
  },
  {
   "cell_type": "code",
   "execution_count": 3,
   "metadata": {
    "collapsed": true
   },
   "outputs": [],
   "source": [
    "class CNNModelLST(nn.Module):\n",
    "    def __init__(self):\n",
    "        super(CNNModelLST, self).__init__()\n",
    "        # conv1\n",
    "        self.conv1 = nn.Conv2d(in_channels=1, out_channels=16, kernel_size=3, stride=1, padding=1)\n",
    "        # non-linearity\n",
    "        self.relu1 = nn.ReLU()\n",
    "        # maxpooling 1, by default floor\n",
    "        self.maxpool1 = nn.MaxPool2d(kernel_size=2) # nn.AvgPool2d\n",
    "        # batch norm\n",
    "        self.batchnorm1 = nn.BatchNorm2d(16)\n",
    "        \n",
    "        # conv2\n",
    "        self.conv2 = nn.Conv2d(in_channels=16, out_channels=32, kernel_size=3, stride=1, padding=1)\n",
    "        # non-linearity\n",
    "        self.relu2 = nn.ReLU()\n",
    "        # maxpooling 2\n",
    "        self.maxpool2 = nn.MaxPool2d(kernel_size=2)\n",
    "        # batch norm\n",
    "        self.batchnorm2 = nn.BatchNorm2d(32)\n",
    "        \n",
    "        # conv3\n",
    "        self.conv3 = nn.Conv2d(in_channels=32, out_channels=64, kernel_size=3, stride=1, padding=1)\n",
    "        # non-linearity\n",
    "        self.relu3 = nn.ReLU()\n",
    "        # maxpooling 3\n",
    "        self.maxpool3 = nn.MaxPool2d(kernel_size=2) # nn.AvgPool2d\n",
    "        # batch norm\n",
    "        self.batchnorm3 = nn.BatchNorm2d(64)\n",
    "        \n",
    "        # conv4\n",
    "        self.conv4 = nn.Conv2d(in_channels=64, out_channels=128, kernel_size=3, stride=1, padding=1)\n",
    "        # non-linearity\n",
    "        self.relu4 = nn.ReLU()\n",
    "        # maxpooling 4\n",
    "        self.maxpool4 = nn.MaxPool2d(kernel_size=2) # nn.AvgPool2d\n",
    "        # batch norm\n",
    "        self.batchnorm4 = nn.BatchNorm2d(128)\n",
    "        \n",
    "        # conv5\n",
    "        self.conv5 = nn.Conv2d(in_channels=128, out_channels=128, kernel_size=3, stride=1, padding=0)\n",
    "        # non-linearity\n",
    "        self.relu5 = nn.ReLU()\n",
    "        \n",
    "        # readout, regression of energy, altitude, azimuth, xCore, yCore\n",
    "        #self.fc1 = nn.Linear(128, 5)\n",
    "         # readout, regression of energy\n",
    "        self.fc1 = nn.Linear(128, 256)\n",
    "        \n",
    "        self.fc2 = nn.Linear(256, 64)\n",
    "        \n",
    "        self.fc3 = nn.Linear(64, 1)\n",
    "        \n",
    "        for m in self.modules():\n",
    "            if isinstance(m, nn.Conv2d):\n",
    "                nn.init.kaiming_uniform(m.weight.data, mode='fan_out')\n",
    "                \n",
    "    def forward(self, x):\n",
    "        out = self.conv1(x)\n",
    "        out = self.relu1(out)\n",
    "        out = self.maxpool1(out)\n",
    "        out = self.batchnorm1(out)\n",
    "        out = self.conv2(out)\n",
    "        out = self.relu2(out)\n",
    "        out = self.maxpool2(out)\n",
    "        out = self.batchnorm2(out)\n",
    "        out = self.conv3(out)\n",
    "        out = self.relu3(out)\n",
    "        out = self.maxpool3(out)\n",
    "        out = self.batchnorm3(out)\n",
    "        out = self.conv4(out)\n",
    "        out = self.relu4(out)\n",
    "        out = self.maxpool4(out)\n",
    "        out = self.batchnorm4(out)\n",
    "        out = self.conv5(out)\n",
    "        out = self.relu5(out)\n",
    "\n",
    "        # Reshape out from 100,128,1 to 100,128\n",
    "        out = out.view(out.size(0),-1)\n",
    "        \n",
    "        out = self.fc1(out)\n",
    "        out = self.fc2(out)\n",
    "        out = self.fc3(out)\n",
    "        return out"
   ]
  },
  {
   "cell_type": "code",
   "execution_count": 4,
   "metadata": {
    "collapsed": true,
    "scrolled": true
   },
   "outputs": [],
   "source": [
    "test_file = '/home/jacquemont/projets_CTA/gamma0.hdf5'\n",
    "f = h5py.File(test_file, 'r')\n",
    "injTable = np.array(f['/Cameras/LSTCAM/injTable'])\n",
    "nbRow = f['/Cameras/LSTCAM'].attrs['nbRow']\n",
    "nbCol = f['/Cameras/LSTCAM'].attrs['nbCol']\n",
    "test_dataset = LSTCamDataset(hdf5_file=f,\n",
    "                             transform=transforms.Compose([\n",
    "                                 TelescopeToSquareMatrix(injTable, nbRow, nbCol),\n",
    "                                 ToTensor()\n",
    "                             ]))\n",
    "\n",
    "test_dataset_2 = LSTCamDataset(hdf5_file=f)\n",
    "\n",
    "test_dataset_3 = ConcatDataset([test_dataset, test_dataset_2])\n"
   ]
  },
  {
   "cell_type": "code",
   "execution_count": 5,
   "metadata": {
    "scrolled": true
   },
   "outputs": [
    {
     "data": {
      "image/png": "[encoded data removed]",
      "text/plain": [
       "<matplotlib.figure.Figure at 0x7f11a7148940>"
      ]
     },
     "metadata": {},
     "output_type": "display_data"
    }
   ],
   "source": [
    "sample = test_dataset[4833]\n",
    "plots.plotmatrix(sample['image'][0].numpy())"
   ]
  },
  {
   "cell_type": "code",
   "execution_count": 6,
   "metadata": {},
   "outputs": [
    {
     "name": "stdout",
     "output_type": "stream",
     "text": [
      "21\n"
     ]
    }
   ],
   "source": [
    "# Creation of subset train and test\n",
    "random_indices = torch.randperm(len(test_dataset))\n",
    "train_max_index = int(len(test_dataset)*0.9)\n",
    "train_set_sampler = sampler.SubsetRandomSampler(random_indices[0:train_max_index])\n",
    "test_set_sampler = sampler.SubsetRandomSampler(random_indices[train_max_index + 1:])\n",
    "\n",
    "batch_size = 16\n",
    "n_iters = 12000\n",
    "num_epochs = int(n_iters/(len(test_dataset)*0.9/batch_size))\n",
    "print(num_epochs)\n",
    "\n",
    "# iterable subset creation\n",
    "train_loader = torch.utils.data.DataLoader(dataset=test_dataset,\n",
    "                                           batch_size=batch_size,\n",
    "                                           sampler=train_set_sampler)\n",
    "\n",
    "test_loader = torch.utils.data.DataLoader(dataset=test_dataset,\n",
    "                                          batch_size=batch_size,\n",
    "                                          sampler=test_set_sampler)"
   ]
  },
  {
   "cell_type": "code",
   "execution_count": 7,
   "metadata": {},
   "outputs": [
    {
     "name": "stdout",
     "output_type": "stream",
     "text": [
      "CUDA available\n"
     ]
    }
   ],
   "source": [
    "if torch.cuda.is_available():\n",
    "    print(\"CUDA available\")"
   ]
  },
  {
   "cell_type": "code",
   "execution_count": 8,
   "metadata": {
    "scrolled": true
   },
   "outputs": [
    {
     "name": "stdout",
     "output_type": "stream",
     "text": [
      "model on GPU\n",
      "Epoch 0 Iteration 100 Training Loss 0.07895388986275607 \n",
      "Epoch 0 Iteration 200 Training Loss 0.02647887712741157 \n",
      "Epoch 0 Iteration 300 Training Loss 175.75650720804933 \n",
      "Epoch 0 Iteration 400 Training Loss 0.7144279852744393 \n",
      "Epoch 0 Iteration 500 Training Loss 1.2289045481263459 \n",
      "Epoch 0 Test Loss 12.585160642619933 \n",
      "Epoch 1 Iteration 600 Training Loss 0.21951363020513173 \n",
      "Epoch 1 Iteration 700 Training Loss 8.296418130031892 \n",
      "Epoch 1 Iteration 800 Training Loss 8.844872489179924 \n",
      "Epoch 1 Iteration 900 Training Loss 0.33909720780322783 \n",
      "Epoch 1 Iteration 1000 Training Loss 0.5528734329488013 \n",
      "Epoch 1 Iteration 1100 Training Loss 0.57991325473518 \n",
      "Epoch 1 Test Loss 12.134898954570149 \n",
      "Epoch 2 Iteration 1200 Training Loss 2.621287839280138 \n",
      "Epoch 2 Iteration 1300 Training Loss 37.06521234182957 \n",
      "Epoch 2 Iteration 1400 Training Loss 37.25070702376297 \n",
      "Epoch 2 Iteration 1500 Training Loss 2.4806630558870886 \n",
      "Epoch 2 Iteration 1600 Training Loss 0.3968432091215275 \n",
      "Epoch 2 Iteration 1700 Training Loss 1.6546048586604525 \n",
      "Epoch 2 Test Loss 10.883297961744525 \n",
      "Epoch 3 Iteration 1800 Training Loss 1.757698023193723 \n",
      "Epoch 3 Iteration 1900 Training Loss 111.02786269825725 \n",
      "Epoch 3 Iteration 2000 Training Loss 0.6728475238351345 \n",
      "Epoch 3 Iteration 2100 Training Loss 1.0203066460883639 \n",
      "Epoch 3 Iteration 2200 Training Loss 0.700764537393223 \n",
      "Epoch 3 Test Loss 8.364400296090398 \n",
      "Epoch 4 Iteration 2300 Training Loss 0.48606136307202286 \n",
      "Epoch 4 Iteration 2400 Training Loss 0.20334583376516138 \n",
      "Epoch 4 Iteration 2500 Training Loss 0.49752450371021667 \n",
      "Epoch 4 Iteration 2600 Training Loss 103.28251849112404 \n",
      "Epoch 4 Iteration 2700 Training Loss 0.16458381396508565 \n",
      "Epoch 4 Iteration 2800 Training Loss 0.26613151838592874 \n",
      "Epoch 4 Test Loss 10.198925631254603 \n",
      "Epoch 5 Iteration 2900 Training Loss 0.9143310577536965 \n",
      "Epoch 5 Iteration 3000 Training Loss 59.55944124026739 \n",
      "Epoch 5 Iteration 3100 Training Loss 0.14504932236609208 \n",
      "Epoch 5 Iteration 3200 Training Loss 15.455112855251702 \n",
      "Epoch 5 Iteration 3300 Training Loss 2.7419787341815436 \n",
      "Epoch 5 Iteration 3400 Training Loss 5.477868088182317 \n",
      "Epoch 5 Test Loss 19.59657015419776 \n",
      "Epoch 6 Iteration 3500 Training Loss 1.588515706164805 \n",
      "Epoch 6 Iteration 3600 Training Loss 0.5826931586645627 \n",
      "Epoch 6 Iteration 3700 Training Loss 48.05744120914616 \n",
      "Epoch 6 Iteration 3800 Training Loss 0.5907942408347056 \n",
      "Epoch 6 Iteration 3900 Training Loss 0.17658628345350447 \n",
      "Epoch 6 Test Loss 27.217972427105906 \n",
      "Epoch 7 Iteration 4000 Training Loss 0.2934577368429587 \n",
      "Epoch 7 Iteration 4100 Training Loss 2.048155162306243 \n",
      "Epoch 7 Iteration 4200 Training Loss 66.33528992900222 \n",
      "Epoch 7 Iteration 4300 Training Loss 0.19550300813781665 \n",
      "Epoch 7 Iteration 4400 Training Loss 0.24967594911981694 \n",
      "Epoch 7 Iteration 4500 Training Loss 3.488602365556398 \n",
      "Epoch 7 Test Loss 12.922721768638302 \n",
      "Epoch 8 Iteration 4600 Training Loss 0.42516557427523444 \n",
      "Epoch 8 Iteration 4700 Training Loss 0.3784287396356454 \n",
      "Epoch 8 Iteration 4800 Training Loss 0.5040370975964066 \n",
      "Epoch 8 Iteration 4900 Training Loss 0.3142445252990182 \n",
      "Epoch 8 Iteration 5000 Training Loss 0.4183199222359414 \n",
      "Epoch 8 Iteration 5100 Training Loss 0.4770880038022467 \n",
      "Epoch 8 Test Loss 9.789656366297327 \n",
      "Epoch 9 Iteration 5200 Training Loss 0.5458488933281924 \n",
      "Epoch 9 Iteration 5300 Training Loss 0.2151664288236587 \n",
      "Epoch 9 Iteration 5400 Training Loss 0.45260315052350925 \n",
      "Epoch 9 Iteration 5500 Training Loss 0.19038065462753445 \n",
      "Epoch 9 Iteration 5600 Training Loss 2.0984785259916108 \n",
      "Epoch 9 Iteration 5700 Training Loss 105.96539020744895 \n",
      "Epoch 9 Test Loss 10.274251671877025 \n",
      "Epoch 10 Iteration 5800 Training Loss 0.4336475200427485 \n",
      "Epoch 10 Iteration 5900 Training Loss 0.7151362802462202 \n",
      "Epoch 10 Iteration 6000 Training Loss 4.5371723813836695 \n",
      "Epoch 10 Iteration 6100 Training Loss 0.47190130310657746 \n",
      "Epoch 10 Iteration 6200 Training Loss 1.2845807556784983 \n",
      "Epoch 10 Test Loss 24.270595865282388 \n",
      "Epoch 11 Iteration 6300 Training Loss 0.36766590516022196 \n",
      "Epoch 11 Iteration 6400 Training Loss 16.123560982818184 \n",
      "Epoch 11 Iteration 6500 Training Loss 0.4913098111259785 \n",
      "Epoch 11 Iteration 6600 Training Loss 0.23263997387220287 \n",
      "Epoch 11 Iteration 6700 Training Loss 0.4535395273512316 \n",
      "Epoch 11 Iteration 6800 Training Loss 0.12936331304905413 \n",
      "Epoch 11 Test Loss 17.401166647305224 \n",
      "Epoch 12 Iteration 6900 Training Loss 0.8900035437189107 \n",
      "Epoch 12 Iteration 7000 Training Loss 71.15400445873755 \n",
      "Epoch 12 Iteration 7100 Training Loss 0.5002248628526601 \n",
      "Epoch 12 Iteration 7200 Training Loss 1.0037204082952709 \n",
      "Epoch 12 Iteration 7300 Training Loss 0.6802209170197516 \n",
      "Epoch 12 Iteration 7400 Training Loss 0.45244493954099757 \n",
      "Epoch 12 Test Loss 15.574074414847896 \n",
      "Epoch 13 Iteration 7500 Training Loss 47.74025763829326 \n",
      "Epoch 13 Iteration 7600 Training Loss 2.538593057713043 \n",
      "Epoch 13 Iteration 7700 Training Loss 0.3955828319235368 \n",
      "Epoch 13 Iteration 7800 Training Loss 0.20489784502924224 \n",
      "Epoch 13 Iteration 7900 Training Loss 0.2290765984511302 \n",
      "Epoch 13 Test Loss 18.124985116457914 \n",
      "Epoch 14 Iteration 8000 Training Loss 1.2054469031334887 \n",
      "Epoch 14 Iteration 8100 Training Loss 0.5841064767659034 \n",
      "Epoch 14 Iteration 8200 Training Loss 0.8469490451485943 \n",
      "Epoch 14 Iteration 8300 Training Loss 0.1782995091726975 \n",
      "Epoch 14 Iteration 8400 Training Loss 2.2084459383413635 \n",
      "Epoch 14 Iteration 8500 Training Loss 2.0553768936196484 \n",
      "Epoch 14 Test Loss 12.906757532391557 \n",
      "Epoch 15 Iteration 8600 Training Loss 0.3082685923490835 \n",
      "Epoch 15 Iteration 8700 Training Loss 0.7412728284883505 \n",
      "Epoch 15 Iteration 8800 Training Loss 0.53421117410744 \n",
      "Epoch 15 Iteration 8900 Training Loss 2.650780697490024 \n",
      "Epoch 15 Iteration 9000 Training Loss 30.414828966267926 \n",
      "Epoch 15 Iteration 9100 Training Loss 0.6102806808326604 \n",
      "Epoch 15 Test Loss 19.589891896312878 \n",
      "Epoch 16 Iteration 9200 Training Loss 0.05449364271935897 \n",
      "Epoch 16 Iteration 9300 Training Loss 0.25444747898862313 \n",
      "Epoch 16 Iteration 9400 Training Loss 0.26680218580569404 \n",
      "Epoch 16 Iteration 9500 Training Loss 0.349484658222688 \n",
      "Epoch 16 Iteration 9600 Training Loss 0.21878809590195814 \n",
      "Epoch 16 Iteration 9700 Training Loss 0.3534878657348899 \n",
      "Epoch 16 Test Loss 14.661195514142287 \n",
      "Epoch 17 Iteration 9800 Training Loss 0.6175677439859377 \n",
      "Epoch 17 Iteration 9900 Training Loss 0.11834234515134609 \n",
      "Epoch 17 Iteration 10000 Training Loss 1.4164418486070984 \n",
      "Epoch 17 Iteration 10100 Training Loss 0.8128193821004248 \n",
      "Epoch 17 Iteration 10200 Training Loss 1.8383432679094973 \n",
      "Epoch 17 Test Loss 16.514671528436473 \n",
      "Epoch 18 Iteration 10300 Training Loss 0.37250658285123295 \n",
      "Epoch 18 Iteration 10400 Training Loss 0.3003330938015789 \n",
      "Epoch 18 Iteration 10500 Training Loss 0.488043158818524 \n",
      "Epoch 18 Iteration 10600 Training Loss 0.13735390237334555 \n",
      "Epoch 18 Iteration 10700 Training Loss 5.55470408836738 \n",
      "Epoch 18 Iteration 10800 Training Loss 0.49309773713603877 \n",
      "Epoch 18 Test Loss 11.541189147045769 \n",
      "Epoch 19 Iteration 10900 Training Loss 0.133581125771791 \n",
      "Epoch 19 Iteration 11000 Training Loss 0.21626964569749 \n",
      "Epoch 19 Iteration 11100 Training Loss 0.6379569051111189 \n",
      "Epoch 19 Iteration 11200 Training Loss 0.11975615007910934 \n",
      "Epoch 19 Iteration 11300 Training Loss 0.16862550203416282 \n",
      "Epoch 19 Iteration 11400 Training Loss 0.07508115150431977 \n",
      "Epoch 19 Test Loss 11.080154010821415 \n",
      "Epoch 20 Iteration 11500 Training Loss 0.16729964321116458 \n",
      "Epoch 20 Iteration 11600 Training Loss 0.5673527335690578 \n",
      "Epoch 20 Iteration 11700 Training Loss 0.3598155856509632 \n",
      "Epoch 20 Iteration 11800 Training Loss 0.19338369238578956 \n",
      "Epoch 20 Iteration 11900 Training Loss 0.10888306867912557 \n",
      "Epoch 20 Test Loss 10.125568798680442 \n",
      "Ratio of gpu time :  0.343885621014586\n"
     ]
    }
   ],
   "source": [
    "model = CNNModelLST()\n",
    "model.double()\n",
    "onGPU = True\n",
    "\n",
    "## Run on GPU ##\n",
    "if torch.cuda.is_available() and onGPU:\n",
    "    print('model on GPU')\n",
    "    model.cuda()\n",
    "\n",
    "criterion = nn.MSELoss()\n",
    "\n",
    "learning_rate = 0.00005\n",
    "\n",
    "optimizer = torch.optim.SGD(model.parameters(), lr=learning_rate)\n",
    "\n",
    "#scheduler = lr_scheduler.ReduceLROnPlateau(optimizer, 'min', patience=2)\n",
    "loss_epoch = []\n",
    "itera = 0\n",
    "time_1 = time.time()\n",
    "gpu_time = 0\n",
    "for epoch in range(num_epochs):\n",
    "    \n",
    "    for i, samples in enumerate(train_loader):\n",
    "\n",
    "        ## Run on GPU ##\n",
    "        if torch.cuda.is_available() and onGPU:\n",
    "            #Load data as variable\n",
    "            images = Variable(samples['image'].cuda())\n",
    "            labels = Variable(samples['labels'].cuda())\n",
    "        else:\n",
    "            images = Variable(samples['image'])\n",
    "            labels = Variable(samples['labels'])\n",
    "        \n",
    "        time_g = time.time()\n",
    "        # clear gradient wrt parameters\n",
    "        optimizer.zero_grad()\n",
    "    \n",
    "        # forward pass\n",
    "        outputs = model(images)\n",
    "    \n",
    "        # claculate loss\n",
    "        loss = criterion(outputs, labels[:, 0])\n",
    "    \n",
    "        # backward pass\n",
    "        loss.backward()\n",
    "        # update parameters\n",
    "        optimizer.step()\n",
    "        \n",
    "    \n",
    "        gpu_time += (time.time() - time_g)\n",
    "        \n",
    "        itera +=1\n",
    "    \n",
    "        if itera%100==0:    \n",
    "            print('Epoch {} Iteration {} Training Loss {} '.format(epoch, itera, loss.data[0]))\n",
    "            #print(model.state_dict()['conv1.weight'][0])\n",
    "    time_g = time.time()\n",
    "    energy = np.empty((0, 1), np.double)\n",
    "    energy_inferred = np.empty((0, 1), np.double)\n",
    "    for i, samples in enumerate(test_loader):\n",
    "\n",
    "        ## Run on GPU ##\n",
    "        if torch.cuda.is_available() and onGPU:\n",
    "            #Load data as variable\n",
    "            images = Variable(samples['image'].cuda())\n",
    "            labels = Variable(samples['labels'].cuda())\n",
    "        else:\n",
    "            images = Variable(samples['image'])\n",
    "            labels = Variable(samples['labels'])\n",
    "\n",
    "        # forward pass\n",
    "        outputs = model(images)\n",
    "        energy = np.append(energy, labels.data[:,0].cpu().numpy())\n",
    "        energy_inferred = np.append(energy_inferred, outputs.data[:,0].cpu().numpy())\n",
    "    \n",
    "    loss_epoch.append(np.mean((energy - energy_inferred)**2))\n",
    "    gpu_time += (time.time() - time_g)\n",
    "    print('Epoch {} Test Loss {} '.format(epoch, loss_epoch[epoch]))\n",
    "    \n",
    "ratio_gpu = gpu_time / (time.time() - time_1)\n",
    "print('Ratio of gpu time : ', ratio_gpu)"
   ]
  },
  {
   "cell_type": "code",
   "execution_count": 15,
   "metadata": {
    "collapsed": true
   },
   "outputs": [],
   "source": [
    "model.eval()\n",
    "energy = np.empty((0, 1), np.double)\n",
    "energy_inferred = np.empty((0, 1), np.double)\n",
    "for i, samples in enumerate(test_loader):\n",
    "\n",
    "    ## Run on GPU ##\n",
    "    if torch.cuda.is_available() and onGPU:\n",
    "        #Load data as variable\n",
    "        images = Variable(samples['image'].cuda())\n",
    "        labels = Variable(samples['labels'].cuda())\n",
    "    else:\n",
    "        images = Variable(samples['image'])\n",
    "        labels = Variable(samples['labels'])\n",
    "\n",
    "   \n",
    "    # forward pass\n",
    "    outputs = model(images)\n",
    "\n",
    "    energy = np.append(energy, labels.data[:,0].cpu().numpy())\n",
    "    energy_inferred = np.append(energy_inferred, outputs.data[:,0].cpu().numpy())"
   ]
  },
  {
   "cell_type": "code",
   "execution_count": 52,
   "metadata": {
    "collapsed": true,
    "scrolled": false
   },
   "outputs": [],
   "source": [
    "torch.save({'model': model.state_dict(), 'optimizer': optimizer.state_dict(), 'loss_epoch': loss_epoch}, f='/home/jacquemont/MyDriveAtLap/saved_models/model1_kaimin-uniform_batchnorm_lr0.00005_20epochs.tar')"
   ]
  },
  {
   "cell_type": "code",
   "execution_count": 10,
   "metadata": {
    "scrolled": false
   },
   "outputs": [
    {
     "data": {
      "image/png": "[encoded data removed]",
      "text/plain": [
       "<matplotlib.figure.Figure at 0x7f11a3d7d978>"
      ]
     },
     "metadata": {},
     "output_type": "display_data"
    }
   ],
   "source": [
    "plt.plot(range(num_epochs), loss_epoch)\n",
    "plt.show()"
   ]
  },
  {
   "cell_type": "code",
   "execution_count": null,
   "metadata": {
    "collapsed": true
   },
   "outputs": [],
   "source": [
    "loss_epoch"
   ]
  },
  {
   "cell_type": "code",
   "execution_count": 16,
   "metadata": {},
   "outputs": [
    {
     "name": "stdout",
     "output_type": "stream",
     "text": [
      "53.0754127502\n",
      "95.1629945977\n"
     ]
    },
    {
     "data": {
      "image/png": "[encoded data removed]",
      "text/plain": [
       "<matplotlib.figure.Figure at 0x7f11a122b3c8>"
      ]
     },
     "metadata": {},
     "output_type": "display_data"
    },
    {
     "name": "stdout",
     "output_type": "stream",
     "text": [
      "Test set mse :  22.1082018608\n"
     ]
    }
   ],
   "source": [
    "print(energy.max())\n",
    "print(energy_inferred.max())\n",
    "plt.scatter(energy, energy_inferred)\n",
    "plt.plot(range(50),'r')\n",
    "plt.show()\n",
    "mse = np.mean((energy - energy_inferred)**2)\n",
    "print('Test set mse : ', mse)\n"
   ]
  },
  {
   "cell_type": "code",
   "execution_count": null,
   "metadata": {
    "collapsed": true
   },
   "outputs": [],
   "source": [
    "f.close()"
   ]
  },
  {
   "cell_type": "code",
   "execution_count": 38,
   "metadata": {
    "collapsed": true
   },
   "outputs": [],
   "source": [
    "mdl = torch.load(f='/home/jacquemont/MyDriveAtLap/saved_models/model1_kaimin-uniform_batchnorm_lr0.001_20epochs.tar')\n",
    "l = mdl['loss_epoch']"
   ]
  },
  {
   "cell_type": "code",
   "execution_count": 40,
   "metadata": {},
   "outputs": [
    {
     "data": {
      "image/png": "[encoded data removed]",
      "text/plain": [
       "<matplotlib.figure.Figure at 0x7ff4d814c0f0>"
      ]
     },
     "metadata": {},
     "output_type": "display_data"
    }
   ],
   "source": [
    "plt.scatter(range(21), l)\n",
    "plt.show()"
   ]
  },
  {
   "cell_type": "code",
   "execution_count": null,
   "metadata": {
    "collapsed": true
   },
   "outputs": [],
   "source": []
  }
 ],
 "metadata": {
  "kernelspec": {
   "display_name": "Python 3",
   "language": "python",
   "name": "python3"
  },
  "language_info": {
   "codemirror_mode": {
    "name": "ipython",
    "version": 3
   },
   "file_extension": ".py",
   "mimetype": "text/x-python",
   "name": "python",
   "nbconvert_exporter": "python",
   "pygments_lexer": "ipython3",
   "version": "3.6.2"
  }
 },
 "nbformat": 4,
 "nbformat_minor": 2
}
