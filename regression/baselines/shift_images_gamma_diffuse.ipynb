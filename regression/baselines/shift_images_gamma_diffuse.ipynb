{
 "cells": [
  {
   "cell_type": "code",
   "execution_count": 1,
   "metadata": {},
   "outputs": [],
   "source": [
    "from hipecta.data import ctaTelescope2Matrix\n",
    "from hipecta import core\n",
    "import numpy as np\n",
    "import h5py\n",
    "import torch\n",
    "import torch.nn as nn\n",
    "from torch.autograd import Variable\n",
    "from torch.utils.data import DataLoader, Dataset, ConcatDataset, sampler\n",
    "from torch.optim import lr_scheduler\n",
    "import matplotlib.pyplot as plt\n",
    "import hipecta.plots as plots\n",
    "from torchvision import transforms, utils\n",
    "import math\n",
    "import time\n",
    "import os\n",
    "import sys\n",
    "\n",
    "converter_path = os.path.abspath(os.path.join('/home/jacquemm/GammaLearn/converter_hdf5'))\n",
    "if converter_path not in sys.path:\n",
    "    sys.path.append(converter_path)\n",
    "    \n",
    "from converter_hdf5 import *\n",
    "from datasets import *"
   ]
  },
  {
   "cell_type": "code",
   "execution_count": 5,
   "metadata": {},
   "outputs": [],
   "source": [
    "file_1 = '/home/jacquemm/hdf5/gamma_diffuse/LaPalma_gamma_diffuse_20deg_0deg_prod3b_training_0000.hdf5'\n",
    "f_1 = h5py.File(file_1, 'r')\n",
    "file_2 = '/home/jacquemm/hdf5/gamma_diffuse/LaPalma_gamma_diffuse_20deg_0deg_prod3b_training_0001.hdf5'\n",
    "f_2 = h5py.File(file_2, 'r')\n",
    "file_3 = '/home/jacquemm/hdf5/gamma_diffuse/LaPalma_gamma_diffuse_20deg_0deg_prod3b_training_0002.hdf5'\n",
    "f_3 = h5py.File(file_3, 'r')\n",
    "file_4 = '/home/jacquemm/hdf5/gamma_diffuse/LaPalma_gamma_diffuse_20deg_0deg_prod3b_training_0003.hdf5'\n",
    "f_4 = h5py.File(file_4, 'r')\n",
    "file_5 = '/home/jacquemm/hdf5/gamma_diffuse/LaPalma_gamma_diffuse_20deg_0deg_prod3b_training_0010.hdf5'\n",
    "f_5 = h5py.File(file_5, 'r')\n",
    "file_6 = '/home/jacquemm/hdf5/gamma_diffuse/LaPalma_gamma_diffuse_20deg_0deg_prod3b_training_0011.hdf5'\n",
    "f_6 = h5py.File(file_6, 'r')\n",
    "injTable = np.array(f_1['/Cameras/LSTCAM/injTable'])\n",
    "nbRow = f_1['/Cameras/LSTCAM'].attrs['nbRow']\n",
    "nbCol = f_1['/Cameras/LSTCAM'].attrs['nbCol']\n",
    "dataset_1 = LSTCamDataset(hdf5_file=f_1,\n",
    "                             transform=transforms.Compose([\n",
    "                                 TelescopeToSquareMatrix(injTable, nbRow, nbCol)\n",
    "                             ]))\n",
    "dataset_2 = LSTCamDataset(hdf5_file=f_2,\n",
    "                             transform=transforms.Compose([\n",
    "                                 TelescopeToSquareMatrix(injTable, nbRow, nbCol)\n",
    "                             ]))\n",
    "dataset_3 = LSTCamDataset(hdf5_file=f_3,\n",
    "                             transform=transforms.Compose([\n",
    "                                 TelescopeToSquareMatrix(injTable, nbRow, nbCol)\n",
    "                             ]))\n",
    "dataset_4 = LSTCamDataset(hdf5_file=f_4,\n",
    "                             transform=transforms.Compose([\n",
    "                                 TelescopeToSquareMatrix(injTable, nbRow, nbCol)\n",
    "                             ]))\n",
    "dataset_5 = LSTCamDataset(hdf5_file=f_6,\n",
    "                             transform=transforms.Compose([\n",
    "                                 TelescopeToSquareMatrix(injTable, nbRow, nbCol)\n",
    "                             ]))\n",
    "dataset_test = LSTCamDataset(hdf5_file=f_6,\n",
    "                             transform=transforms.Compose([\n",
    "                                 TelescopeToSquareMatrix(injTable, nbRow, nbCol)\n",
    "                             ]))\n",
    "\n",
    "\n",
    "dataset_train = ConcatDataset([dataset_1, dataset_2, dataset_3, dataset_4, dataset_5])\n"
   ]
  },
  {
   "cell_type": "code",
   "execution_count": 15,
   "metadata": {},
   "outputs": [
    {
     "data": {
      "text/plain": [
       "34676"
      ]
     },
     "execution_count": 15,
     "metadata": {},
     "output_type": "execute_result"
    }
   ],
   "source": [
    "len(dataset_train)"
   ]
  },
  {
   "cell_type": "code",
   "execution_count": 6,
   "metadata": {},
   "outputs": [],
   "source": [
    "# iterable subset creation\n",
    "train_loader = torch.utils.data.DataLoader(dataset=dataset_train,\n",
    "                                           batch_size=len(dataset_train))\n",
    "\n",
    "test_loader = torch.utils.data.DataLoader(dataset=dataset_test,\n",
    "                                          batch_size=len(dataset_test))"
   ]
  },
  {
   "cell_type": "code",
   "execution_count": 16,
   "metadata": {},
   "outputs": [],
   "source": [
    "with h5py.File('/home/jacquemm/hdf5/converted/gamma_diffuse_train', 'w') as f_train:\n",
    "    for i, samples in enumerate(train_loader):\n",
    "        f_train.create_dataset('images', data=samples['image'].numpy(), dtype=np.float32)\n",
    "        f_train.create_dataset('telescopes', data=samples['telescope'].numpy(), dtype=np.float32)\n",
    "        f_train.create_dataset('labels', data=samples['labels'].numpy(), dtype=np.float32)"
   ]
  },
  {
   "cell_type": "code",
   "execution_count": 13,
   "metadata": {},
   "outputs": [],
   "source": [
    "with h5py.File('/home/jacquemm/hdf5/converted/gamma_diffuse_test', 'w') as f_test:\n",
    "    for i, samples in enumerate(test_loader):\n",
    "        f_test.create_dataset('images', data=samples['image'].numpy(), dtype=np.float32)\n",
    "        f_test.create_dataset('telescopes', data=samples['telescope'].numpy(), dtype=np.float32)\n",
    "        f_test.create_dataset('labels', data=samples['labels'].numpy(), dtype=np.float32)"
   ]
  },
  {
   "cell_type": "code",
   "execution_count": null,
   "metadata": {},
   "outputs": [],
   "source": [
    "f_1.close()\n",
    "f_2.close()\n",
    "f_3.close()\n",
    "f_4.close()\n",
    "f_5.close()\n",
    "f_6.close()"
   ]
  },
  {
   "cell_type": "code",
   "execution_count": null,
   "metadata": {},
   "outputs": [],
   "source": []
  }
 ],
 "metadata": {
  "kernelspec": {
   "display_name": "Python 3",
   "language": "python",
   "name": "python3"
  },
  "language_info": {
   "codemirror_mode": {
    "name": "ipython",
    "version": 3
   },
   "file_extension": ".py",
   "mimetype": "text/x-python",
   "name": "python",
   "nbconvert_exporter": "python",
   "pygments_lexer": "ipython3",
   "version": "3.5.3"
  }
 },
 "nbformat": 4,
 "nbformat_minor": 2
}
